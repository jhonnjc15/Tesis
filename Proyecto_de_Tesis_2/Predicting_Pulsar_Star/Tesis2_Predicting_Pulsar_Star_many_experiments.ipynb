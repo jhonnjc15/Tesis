{
 "cells": [
  {
   "cell_type": "markdown",
   "id": "01b786e6",
   "metadata": {
    "id": "01b786e6",
    "papermill": {
     "duration": 0.057231,
     "end_time": "2022-02-22T16:07:38.978506",
     "exception": false,
     "start_time": "2022-02-22T16:07:38.921275",
     "status": "completed"
    },
    "tags": []
   },
   "source": [
    "# Import libraries"
   ]
  },
  {
   "cell_type": "code",
   "execution_count": 1,
   "id": "aaf230e3",
   "metadata": {},
   "outputs": [
    {
     "data": {
      "text/plain": [
       "\"\\nfrom IPython.display import clear_output\\n!pip install 'qiskit[nature]'\\n!pip install qiskit[visualization]\\n!pip install qiskit-machine-learning\\n!pip install pylatexenc\\nclear_output()\\n\""
      ]
     },
     "execution_count": 1,
     "metadata": {},
     "output_type": "execute_result"
    }
   ],
   "source": [
    "\"\"\"\n",
    "from IPython.display import clear_output\n",
    "!pip install 'qiskit[nature]'\n",
    "!pip install qiskit[visualization]\n",
    "!pip install qiskit-machine-learning\n",
    "!pip install pylatexenc\n",
    "clear_output()\n",
    "\"\"\""
   ]
  },
  {
   "cell_type": "code",
   "execution_count": 2,
   "id": "d21531fd",
   "metadata": {
    "execution": {
     "iopub.execute_input": "2022-02-22T16:07:39.098752Z",
     "iopub.status.busy": "2022-02-22T16:07:39.097235Z",
     "iopub.status.idle": "2022-02-22T16:07:40.512413Z",
     "shell.execute_reply": "2022-02-22T16:07:40.512978Z",
     "shell.execute_reply.started": "2021-12-16T19:57:57.170695Z"
    },
    "id": "d21531fd",
    "papermill": {
     "duration": 1.476911,
     "end_time": "2022-02-22T16:07:40.513263",
     "exception": false,
     "start_time": "2022-02-22T16:07:39.036352",
     "status": "completed"
    },
    "tags": []
   },
   "outputs": [],
   "source": [
    "import numpy as np\n",
    "import pandas as pd\n",
    "import matplotlib.pyplot as plt\n",
    "import seaborn as sns\n",
    "from sklearn.model_selection import train_test_split,GridSearchCV\n",
    "from sklearn.svm import SVC\n",
    "from sklearn import metrics\n",
    "from sklearn.datasets import load_iris\n",
    "%matplotlib inline\n",
    "from sklearn import svm\n",
    "from sklearn.model_selection import RandomizedSearchCV\n",
    "from sklearn.preprocessing import StandardScaler\n",
    "from sklearn.metrics import precision_score\n",
    "from sklearn.metrics import recall_score\n",
    "import warnings\n",
    "warnings.filterwarnings(action='ignore')\n",
    "from sklearn.metrics import classification_report, confusion_matrix"
   ]
  },
  {
   "cell_type": "markdown",
   "id": "35a74430",
   "metadata": {
    "id": "35a74430",
    "papermill": {
     "duration": 0.055673,
     "end_time": "2022-02-22T16:07:40.625516",
     "exception": false,
     "start_time": "2022-02-22T16:07:40.569843",
     "status": "completed"
    },
    "tags": []
   },
   "source": [
    "# EDA \n",
    "### Reading the Data."
   ]
  },
  {
   "cell_type": "code",
   "execution_count": 3,
   "id": "bd58cb74",
   "metadata": {
    "execution": {
     "iopub.execute_input": "2022-02-22T16:07:40.746322Z",
     "iopub.status.busy": "2022-02-22T16:07:40.745661Z",
     "iopub.status.idle": "2022-02-22T16:07:40.832676Z",
     "shell.execute_reply": "2022-02-22T16:07:40.832104Z",
     "shell.execute_reply.started": "2021-12-16T19:57:58.730528Z"
    },
    "id": "bd58cb74",
    "papermill": {
     "duration": 0.151159,
     "end_time": "2022-02-22T16:07:40.832861",
     "exception": false,
     "start_time": "2022-02-22T16:07:40.681702",
     "status": "completed"
    },
    "tags": []
   },
   "outputs": [],
   "source": [
    "df_train = pd.read_csv(\"./pulsar_data/pulsar_data_train.csv\")\n",
    "\n",
    "df_test = pd.read_csv(\"./pulsar_data/pulsar_data_test.csv\")"
   ]
  },
  {
   "cell_type": "code",
   "execution_count": 4,
   "id": "f992a118",
   "metadata": {
    "colab": {
     "base_uri": "https://localhost:8080/",
     "height": 302
    },
    "execution": {
     "iopub.execute_input": "2022-02-22T16:07:40.950638Z",
     "iopub.status.busy": "2022-02-22T16:07:40.950002Z",
     "iopub.status.idle": "2022-02-22T16:07:40.974329Z",
     "shell.execute_reply": "2022-02-22T16:07:40.974860Z",
     "shell.execute_reply.started": "2021-12-16T19:57:58.82035Z"
    },
    "id": "f992a118",
    "outputId": "b03b3fd8-86af-4e6a-8c88-571cc74126da",
    "papermill": {
     "duration": 0.084947,
     "end_time": "2022-02-22T16:07:40.975017",
     "exception": false,
     "start_time": "2022-02-22T16:07:40.890070",
     "status": "completed"
    },
    "tags": []
   },
   "outputs": [
    {
     "data": {
      "text/html": [
       "<div>\n",
       "<style scoped>\n",
       "    .dataframe tbody tr th:only-of-type {\n",
       "        vertical-align: middle;\n",
       "    }\n",
       "\n",
       "    .dataframe tbody tr th {\n",
       "        vertical-align: top;\n",
       "    }\n",
       "\n",
       "    .dataframe thead th {\n",
       "        text-align: right;\n",
       "    }\n",
       "</style>\n",
       "<table border=\"1\" class=\"dataframe\">\n",
       "  <thead>\n",
       "    <tr style=\"text-align: right;\">\n",
       "      <th></th>\n",
       "      <th>Mean of the integrated profile</th>\n",
       "      <th>Standard deviation of the integrated profile</th>\n",
       "      <th>Excess kurtosis of the integrated profile</th>\n",
       "      <th>Skewness of the integrated profile</th>\n",
       "      <th>Mean of the DM-SNR curve</th>\n",
       "      <th>Standard deviation of the DM-SNR curve</th>\n",
       "      <th>Excess kurtosis of the DM-SNR curve</th>\n",
       "      <th>Skewness of the DM-SNR curve</th>\n",
       "      <th>target_class</th>\n",
       "    </tr>\n",
       "  </thead>\n",
       "  <tbody>\n",
       "    <tr>\n",
       "      <th>0</th>\n",
       "      <td>121.156250</td>\n",
       "      <td>48.372971</td>\n",
       "      <td>0.375485</td>\n",
       "      <td>-0.013165</td>\n",
       "      <td>3.168896</td>\n",
       "      <td>18.399367</td>\n",
       "      <td>7.449874</td>\n",
       "      <td>65.159298</td>\n",
       "      <td>0.0</td>\n",
       "    </tr>\n",
       "    <tr>\n",
       "      <th>1</th>\n",
       "      <td>76.968750</td>\n",
       "      <td>36.175557</td>\n",
       "      <td>0.712898</td>\n",
       "      <td>3.388719</td>\n",
       "      <td>2.399666</td>\n",
       "      <td>17.570997</td>\n",
       "      <td>9.414652</td>\n",
       "      <td>102.722975</td>\n",
       "      <td>0.0</td>\n",
       "    </tr>\n",
       "    <tr>\n",
       "      <th>2</th>\n",
       "      <td>130.585938</td>\n",
       "      <td>53.229534</td>\n",
       "      <td>0.133408</td>\n",
       "      <td>-0.297242</td>\n",
       "      <td>2.743311</td>\n",
       "      <td>22.362553</td>\n",
       "      <td>8.508364</td>\n",
       "      <td>74.031324</td>\n",
       "      <td>0.0</td>\n",
       "    </tr>\n",
       "    <tr>\n",
       "      <th>3</th>\n",
       "      <td>156.398438</td>\n",
       "      <td>48.865942</td>\n",
       "      <td>-0.215989</td>\n",
       "      <td>-0.171294</td>\n",
       "      <td>17.471572</td>\n",
       "      <td>NaN</td>\n",
       "      <td>2.958066</td>\n",
       "      <td>7.197842</td>\n",
       "      <td>0.0</td>\n",
       "    </tr>\n",
       "    <tr>\n",
       "      <th>4</th>\n",
       "      <td>84.804688</td>\n",
       "      <td>36.117659</td>\n",
       "      <td>0.825013</td>\n",
       "      <td>3.274125</td>\n",
       "      <td>2.790134</td>\n",
       "      <td>20.618009</td>\n",
       "      <td>8.405008</td>\n",
       "      <td>76.291128</td>\n",
       "      <td>0.0</td>\n",
       "    </tr>\n",
       "  </tbody>\n",
       "</table>\n",
       "</div>"
      ],
      "text/plain": [
       "    Mean of the integrated profile  \\\n",
       "0                       121.156250   \n",
       "1                        76.968750   \n",
       "2                       130.585938   \n",
       "3                       156.398438   \n",
       "4                        84.804688   \n",
       "\n",
       "    Standard deviation of the integrated profile  \\\n",
       "0                                      48.372971   \n",
       "1                                      36.175557   \n",
       "2                                      53.229534   \n",
       "3                                      48.865942   \n",
       "4                                      36.117659   \n",
       "\n",
       "    Excess kurtosis of the integrated profile  \\\n",
       "0                                    0.375485   \n",
       "1                                    0.712898   \n",
       "2                                    0.133408   \n",
       "3                                   -0.215989   \n",
       "4                                    0.825013   \n",
       "\n",
       "    Skewness of the integrated profile   Mean of the DM-SNR curve  \\\n",
       "0                            -0.013165                   3.168896   \n",
       "1                             3.388719                   2.399666   \n",
       "2                            -0.297242                   2.743311   \n",
       "3                            -0.171294                  17.471572   \n",
       "4                             3.274125                   2.790134   \n",
       "\n",
       "    Standard deviation of the DM-SNR curve  \\\n",
       "0                                18.399367   \n",
       "1                                17.570997   \n",
       "2                                22.362553   \n",
       "3                                      NaN   \n",
       "4                                20.618009   \n",
       "\n",
       "    Excess kurtosis of the DM-SNR curve   Skewness of the DM-SNR curve  \\\n",
       "0                              7.449874                      65.159298   \n",
       "1                              9.414652                     102.722975   \n",
       "2                              8.508364                      74.031324   \n",
       "3                              2.958066                       7.197842   \n",
       "4                              8.405008                      76.291128   \n",
       "\n",
       "   target_class  \n",
       "0           0.0  \n",
       "1           0.0  \n",
       "2           0.0  \n",
       "3           0.0  \n",
       "4           0.0  "
      ]
     },
     "execution_count": 4,
     "metadata": {},
     "output_type": "execute_result"
    }
   ],
   "source": [
    "df_train.head()"
   ]
  },
  {
   "cell_type": "code",
   "execution_count": 5,
   "id": "7f0030f2",
   "metadata": {
    "colab": {
     "base_uri": "https://localhost:8080/",
     "height": 302
    },
    "execution": {
     "iopub.execute_input": "2022-02-22T16:07:41.164180Z",
     "iopub.status.busy": "2022-02-22T16:07:41.163565Z",
     "iopub.status.idle": "2022-02-22T16:07:41.174185Z",
     "shell.execute_reply": "2022-02-22T16:07:41.174655Z",
     "shell.execute_reply.started": "2021-12-16T19:57:58.851919Z"
    },
    "id": "7f0030f2",
    "outputId": "89e3c6b0-469c-4d88-ce88-687f21e9331e",
    "papermill": {
     "duration": 0.071222,
     "end_time": "2022-02-22T16:07:41.174834",
     "exception": false,
     "start_time": "2022-02-22T16:07:41.103612",
     "status": "completed"
    },
    "tags": []
   },
   "outputs": [
    {
     "data": {
      "text/html": [
       "<div>\n",
       "<style scoped>\n",
       "    .dataframe tbody tr th:only-of-type {\n",
       "        vertical-align: middle;\n",
       "    }\n",
       "\n",
       "    .dataframe tbody tr th {\n",
       "        vertical-align: top;\n",
       "    }\n",
       "\n",
       "    .dataframe thead th {\n",
       "        text-align: right;\n",
       "    }\n",
       "</style>\n",
       "<table border=\"1\" class=\"dataframe\">\n",
       "  <thead>\n",
       "    <tr style=\"text-align: right;\">\n",
       "      <th></th>\n",
       "      <th>Mean of the integrated profile</th>\n",
       "      <th>Standard deviation of the integrated profile</th>\n",
       "      <th>Excess kurtosis of the integrated profile</th>\n",
       "      <th>Skewness of the integrated profile</th>\n",
       "      <th>Mean of the DM-SNR curve</th>\n",
       "      <th>Standard deviation of the DM-SNR curve</th>\n",
       "      <th>Excess kurtosis of the DM-SNR curve</th>\n",
       "      <th>Skewness of the DM-SNR curve</th>\n",
       "      <th>target_class</th>\n",
       "    </tr>\n",
       "  </thead>\n",
       "  <tbody>\n",
       "    <tr>\n",
       "      <th>0</th>\n",
       "      <td>116.906250</td>\n",
       "      <td>48.920605</td>\n",
       "      <td>0.186046</td>\n",
       "      <td>-0.129815</td>\n",
       "      <td>3.037625</td>\n",
       "      <td>17.737102</td>\n",
       "      <td>8.122621</td>\n",
       "      <td>78.813405</td>\n",
       "      <td>NaN</td>\n",
       "    </tr>\n",
       "    <tr>\n",
       "      <th>1</th>\n",
       "      <td>75.585938</td>\n",
       "      <td>34.386254</td>\n",
       "      <td>2.025498</td>\n",
       "      <td>8.652913</td>\n",
       "      <td>3.765050</td>\n",
       "      <td>21.897049</td>\n",
       "      <td>7.048189</td>\n",
       "      <td>55.878791</td>\n",
       "      <td>NaN</td>\n",
       "    </tr>\n",
       "    <tr>\n",
       "      <th>2</th>\n",
       "      <td>103.273438</td>\n",
       "      <td>46.996628</td>\n",
       "      <td>0.504295</td>\n",
       "      <td>0.821088</td>\n",
       "      <td>2.244983</td>\n",
       "      <td>15.622566</td>\n",
       "      <td>9.330498</td>\n",
       "      <td>105.134941</td>\n",
       "      <td>NaN</td>\n",
       "    </tr>\n",
       "    <tr>\n",
       "      <th>3</th>\n",
       "      <td>101.078125</td>\n",
       "      <td>48.587487</td>\n",
       "      <td>1.011427</td>\n",
       "      <td>1.151870</td>\n",
       "      <td>81.887960</td>\n",
       "      <td>81.464136</td>\n",
       "      <td>0.485105</td>\n",
       "      <td>-1.117904</td>\n",
       "      <td>NaN</td>\n",
       "    </tr>\n",
       "    <tr>\n",
       "      <th>4</th>\n",
       "      <td>113.226562</td>\n",
       "      <td>48.608804</td>\n",
       "      <td>0.291538</td>\n",
       "      <td>0.292120</td>\n",
       "      <td>6.291806</td>\n",
       "      <td>26.585056</td>\n",
       "      <td>4.540138</td>\n",
       "      <td>21.708268</td>\n",
       "      <td>NaN</td>\n",
       "    </tr>\n",
       "  </tbody>\n",
       "</table>\n",
       "</div>"
      ],
      "text/plain": [
       "    Mean of the integrated profile  \\\n",
       "0                       116.906250   \n",
       "1                        75.585938   \n",
       "2                       103.273438   \n",
       "3                       101.078125   \n",
       "4                       113.226562   \n",
       "\n",
       "    Standard deviation of the integrated profile  \\\n",
       "0                                      48.920605   \n",
       "1                                      34.386254   \n",
       "2                                      46.996628   \n",
       "3                                      48.587487   \n",
       "4                                      48.608804   \n",
       "\n",
       "    Excess kurtosis of the integrated profile  \\\n",
       "0                                    0.186046   \n",
       "1                                    2.025498   \n",
       "2                                    0.504295   \n",
       "3                                    1.011427   \n",
       "4                                    0.291538   \n",
       "\n",
       "    Skewness of the integrated profile   Mean of the DM-SNR curve  \\\n",
       "0                            -0.129815                   3.037625   \n",
       "1                             8.652913                   3.765050   \n",
       "2                             0.821088                   2.244983   \n",
       "3                             1.151870                  81.887960   \n",
       "4                             0.292120                   6.291806   \n",
       "\n",
       "    Standard deviation of the DM-SNR curve  \\\n",
       "0                                17.737102   \n",
       "1                                21.897049   \n",
       "2                                15.622566   \n",
       "3                                81.464136   \n",
       "4                                26.585056   \n",
       "\n",
       "    Excess kurtosis of the DM-SNR curve   Skewness of the DM-SNR curve  \\\n",
       "0                              8.122621                      78.813405   \n",
       "1                              7.048189                      55.878791   \n",
       "2                              9.330498                     105.134941   \n",
       "3                              0.485105                      -1.117904   \n",
       "4                              4.540138                      21.708268   \n",
       "\n",
       "   target_class  \n",
       "0           NaN  \n",
       "1           NaN  \n",
       "2           NaN  \n",
       "3           NaN  \n",
       "4           NaN  "
      ]
     },
     "execution_count": 5,
     "metadata": {},
     "output_type": "execute_result"
    }
   ],
   "source": [
    "df_test.head()"
   ]
  },
  {
   "cell_type": "markdown",
   "id": "0a3d4aa8",
   "metadata": {
    "id": "0a3d4aa8",
    "papermill": {
     "duration": 0.057928,
     "end_time": "2022-02-22T16:07:41.290641",
     "exception": false,
     "start_time": "2022-02-22T16:07:41.232713",
     "status": "completed"
    },
    "tags": []
   },
   "source": [
    "* as we can see the target is NAN in the test df so it will be predected.\n",
    "* we can change the name of columns to simplify."
   ]
  },
  {
   "cell_type": "code",
   "execution_count": 6,
   "id": "7edcb3fb",
   "metadata": {
    "execution": {
     "iopub.execute_input": "2022-02-22T16:07:41.410937Z",
     "iopub.status.busy": "2022-02-22T16:07:41.410261Z",
     "iopub.status.idle": "2022-02-22T16:07:41.413336Z",
     "shell.execute_reply": "2022-02-22T16:07:41.413902Z",
     "shell.execute_reply.started": "2021-12-16T19:57:58.873341Z"
    },
    "id": "7edcb3fb",
    "papermill": {
     "duration": 0.065177,
     "end_time": "2022-02-22T16:07:41.414067",
     "exception": false,
     "start_time": "2022-02-22T16:07:41.348890",
     "status": "completed"
    },
    "tags": []
   },
   "outputs": [],
   "source": [
    "df_train.columns = ['mean_profile', 'std_profile', 'kurtosis_profile', 'skewness_profile', 'mean_dmsnr',\n",
    "               'std_dmsnr', 'kurtosis_dmsnr', 'skewness_dmsnr', 'target']\n",
    "df_test.columns = ['mean_profile', 'std_profile', 'kurtosis_profile', 'skewness_profile', 'mean_dmsnr',\n",
    "               'std_dmsnr', 'kurtosis_dmsnr', 'skewness_dmsnr', 'target']"
   ]
  },
  {
   "cell_type": "markdown",
   "id": "2df583d8",
   "metadata": {
    "id": "2df583d8",
    "papermill": {
     "duration": 0.039347,
     "end_time": "2022-02-22T16:07:41.861121",
     "exception": false,
     "start_time": "2022-02-22T16:07:41.821774",
     "status": "completed"
    },
    "tags": []
   },
   "source": [
    "### Data informations and describtion"
   ]
  },
  {
   "cell_type": "code",
   "execution_count": 7,
   "id": "b2653bbb",
   "metadata": {
    "colab": {
     "base_uri": "https://localhost:8080/"
    },
    "execution": {
     "iopub.execute_input": "2022-02-22T16:07:42.438613Z",
     "iopub.status.busy": "2022-02-22T16:07:42.438143Z",
     "iopub.status.idle": "2022-02-22T16:07:42.446244Z",
     "shell.execute_reply": "2022-02-22T16:07:42.446707Z",
     "shell.execute_reply.started": "2021-12-16T19:57:59.065162Z"
    },
    "id": "b2653bbb",
    "outputId": "a7a43c7b-06e5-4ff0-cd54-2d1ce5e5cd26",
    "papermill": {
     "duration": 0.050878,
     "end_time": "2022-02-22T16:07:42.446857",
     "exception": false,
     "start_time": "2022-02-22T16:07:42.395979",
     "status": "completed"
    },
    "tags": []
   },
   "outputs": [
    {
     "data": {
      "text/plain": [
       "0.0    11375\n",
       "1.0     1153\n",
       "Name: target, dtype: int64"
      ]
     },
     "execution_count": 7,
     "metadata": {},
     "output_type": "execute_result"
    }
   ],
   "source": [
    "df_train['target'].value_counts()"
   ]
  },
  {
   "cell_type": "code",
   "execution_count": 8,
   "id": "3f878da6",
   "metadata": {
    "colab": {
     "base_uri": "https://localhost:8080/",
     "height": 447
    },
    "execution": {
     "iopub.execute_input": "2022-02-22T16:07:42.529206Z",
     "iopub.status.busy": "2022-02-22T16:07:42.528700Z",
     "iopub.status.idle": "2022-02-22T16:07:42.665402Z",
     "shell.execute_reply": "2022-02-22T16:07:42.665987Z",
     "shell.execute_reply.started": "2021-12-16T19:57:59.076298Z"
    },
    "id": "3f878da6",
    "outputId": "d1548235-4d00-40f8-8261-41409a0e0a94",
    "papermill": {
     "duration": 0.179571,
     "end_time": "2022-02-22T16:07:42.666155",
     "exception": false,
     "start_time": "2022-02-22T16:07:42.486584",
     "status": "completed"
    },
    "tags": []
   },
   "outputs": [
    {
     "data": {
      "text/plain": [
       "<AxesSubplot:xlabel='target', ylabel='count'>"
      ]
     },
     "execution_count": 8,
     "metadata": {},
     "output_type": "execute_result"
    },
    {
     "data": {
      "image/png": "[encoded data removed]",
      "text/plain": [
       "<Figure size 432x288 with 1 Axes>"
      ]
     },
     "metadata": {
      "needs_background": "light"
     },
     "output_type": "display_data"
    }
   ],
   "source": [
    "sns.countplot(df_train.target)"
   ]
  },
  {
   "cell_type": "markdown",
   "id": "430b7b54",
   "metadata": {
    "id": "430b7b54",
    "papermill": {
     "duration": 0.068769,
     "end_time": "2022-02-22T16:07:48.541382",
     "exception": false,
     "start_time": "2022-02-22T16:07:48.472613",
     "status": "completed"
    },
    "tags": []
   },
   "source": [
    "# Data preprocessing"
   ]
  },
  {
   "cell_type": "markdown",
   "id": "c58df37b",
   "metadata": {
    "id": "c58df37b",
    "papermill": {
     "duration": 0.069098,
     "end_time": "2022-02-22T16:07:48.679764",
     "exception": false,
     "start_time": "2022-02-22T16:07:48.610666",
     "status": "completed"
    },
    "tags": []
   },
   "source": [
    "### Dealing with missing data"
   ]
  },
  {
   "cell_type": "code",
   "execution_count": 9,
   "id": "7e00632c",
   "metadata": {
    "colab": {
     "base_uri": "https://localhost:8080/"
    },
    "execution": {
     "iopub.execute_input": "2022-02-22T16:07:48.823768Z",
     "iopub.status.busy": "2022-02-22T16:07:48.823108Z",
     "iopub.status.idle": "2022-02-22T16:07:48.827172Z",
     "shell.execute_reply": "2022-02-22T16:07:48.827764Z",
     "shell.execute_reply.started": "2021-12-16T19:58:04.614348Z"
    },
    "id": "7e00632c",
    "outputId": "1eda1cda-8187-4769-85bd-0896ece86cc2",
    "papermill": {
     "duration": 0.078719,
     "end_time": "2022-02-22T16:07:48.827945",
     "exception": false,
     "start_time": "2022-02-22T16:07:48.749226",
     "status": "completed"
    },
    "tags": []
   },
   "outputs": [
    {
     "data": {
      "text/plain": [
       "mean_profile           0\n",
       "std_profile            0\n",
       "kurtosis_profile    1735\n",
       "skewness_profile       0\n",
       "mean_dmsnr             0\n",
       "std_dmsnr           1178\n",
       "kurtosis_dmsnr         0\n",
       "skewness_dmsnr       625\n",
       "target                 0\n",
       "dtype: int64"
      ]
     },
     "execution_count": 9,
     "metadata": {},
     "output_type": "execute_result"
    }
   ],
   "source": [
    "df_train.isnull().sum()"
   ]
  },
  {
   "cell_type": "code",
   "execution_count": 10,
   "id": "37653da1",
   "metadata": {
    "execution": {
     "iopub.execute_input": "2022-02-22T16:07:48.970015Z",
     "iopub.status.busy": "2022-02-22T16:07:48.969328Z",
     "iopub.status.idle": "2022-02-22T16:07:48.973730Z",
     "shell.execute_reply": "2022-02-22T16:07:48.973298Z",
     "shell.execute_reply.started": "2021-12-16T19:58:04.624954Z"
    },
    "id": "37653da1",
    "papermill": {
     "duration": 0.076557,
     "end_time": "2022-02-22T16:07:48.973875",
     "exception": false,
     "start_time": "2022-02-22T16:07:48.897318",
     "status": "completed"
    },
    "tags": []
   },
   "outputs": [],
   "source": [
    "df_train_copy = df_train.copy()"
   ]
  },
  {
   "cell_type": "code",
   "execution_count": 11,
   "id": "bfcec477",
   "metadata": {
    "execution": {
     "iopub.execute_input": "2022-02-22T16:07:49.069758Z",
     "iopub.status.busy": "2022-02-22T16:07:49.069097Z",
     "iopub.status.idle": "2022-02-22T16:07:49.081482Z",
     "shell.execute_reply": "2022-02-22T16:07:49.080954Z",
     "shell.execute_reply.started": "2021-12-16T19:58:04.636688Z"
    },
    "id": "bfcec477",
    "papermill": {
     "duration": 0.060823,
     "end_time": "2022-02-22T16:07:49.081597",
     "exception": false,
     "start_time": "2022-02-22T16:07:49.020774",
     "status": "completed"
    },
    "tags": []
   },
   "outputs": [],
   "source": [
    "fill_list = df_train['kurtosis_profile']\n",
    "df_train['kurtosis_profile'] = df_train['kurtosis_profile'].fillna(pd.Series(np.random.choice(fill_list , size = len(df_train.index))))\n",
    "fill_list = df_train['std_dmsnr']\n",
    "df_train['std_dmsnr'] = df_train['std_dmsnr'].fillna(pd.Series(np.random.choice(fill_list , size = len(df_train.index))))\n",
    "fill_list = df_train['skewness_dmsnr']\n",
    "df_train['skewness_dmsnr'] = df_train['skewness_dmsnr'].fillna(pd.Series(np.random.choice(fill_list , size = len(df_train.index))))"
   ]
  },
  {
   "cell_type": "code",
   "execution_count": 12,
   "id": "c1b79ec7",
   "metadata": {
    "colab": {
     "base_uri": "https://localhost:8080/"
    },
    "execution": {
     "iopub.execute_input": "2022-02-22T16:07:49.183417Z",
     "iopub.status.busy": "2022-02-22T16:07:49.182742Z",
     "iopub.status.idle": "2022-02-22T16:07:49.189119Z",
     "shell.execute_reply": "2022-02-22T16:07:49.189551Z",
     "shell.execute_reply.started": "2021-12-16T19:58:04.657583Z"
    },
    "id": "c1b79ec7",
    "outputId": "808efde4-5ce2-4c2f-a981-1907e5bcedbd",
    "papermill": {
     "duration": 0.061145,
     "end_time": "2022-02-22T16:07:49.189695",
     "exception": false,
     "start_time": "2022-02-22T16:07:49.128550",
     "status": "completed"
    },
    "tags": []
   },
   "outputs": [
    {
     "data": {
      "text/plain": [
       "mean_profile          0\n",
       "std_profile           0\n",
       "kurtosis_profile    227\n",
       "skewness_profile      0\n",
       "mean_dmsnr            0\n",
       "std_dmsnr            93\n",
       "kurtosis_dmsnr        0\n",
       "skewness_dmsnr       32\n",
       "target                0\n",
       "dtype: int64"
      ]
     },
     "execution_count": 12,
     "metadata": {},
     "output_type": "execute_result"
    }
   ],
   "source": [
    "df_train.isnull().sum()"
   ]
  },
  {
   "cell_type": "code",
   "execution_count": 13,
   "id": "890f5f0a",
   "metadata": {
    "execution": {
     "iopub.execute_input": "2022-02-22T16:07:49.301280Z",
     "iopub.status.busy": "2022-02-22T16:07:49.300576Z",
     "iopub.status.idle": "2022-02-22T16:07:49.307259Z",
     "shell.execute_reply": "2022-02-22T16:07:49.306670Z",
     "shell.execute_reply.started": "2021-12-16T19:58:04.676339Z"
    },
    "id": "890f5f0a",
    "papermill": {
     "duration": 0.060084,
     "end_time": "2022-02-22T16:07:49.307402",
     "exception": false,
     "start_time": "2022-02-22T16:07:49.247318",
     "status": "completed"
    },
    "tags": []
   },
   "outputs": [],
   "source": [
    "df_train.dropna(inplace=True)"
   ]
  },
  {
   "cell_type": "code",
   "execution_count": 14,
   "id": "2c86de3e",
   "metadata": {
    "colab": {
     "base_uri": "https://localhost:8080/"
    },
    "execution": {
     "iopub.execute_input": "2022-02-22T16:07:49.451236Z",
     "iopub.status.busy": "2022-02-22T16:07:49.450586Z",
     "iopub.status.idle": "2022-02-22T16:07:49.455754Z",
     "shell.execute_reply": "2022-02-22T16:07:49.455190Z",
     "shell.execute_reply.started": "2021-12-16T19:58:04.688435Z"
    },
    "id": "2c86de3e",
    "outputId": "416a4b5d-2a34-4365-b3e7-4f68dd8a6170",
    "papermill": {
     "duration": 0.078437,
     "end_time": "2022-02-22T16:07:49.455903",
     "exception": false,
     "start_time": "2022-02-22T16:07:49.377466",
     "status": "completed"
    },
    "tags": []
   },
   "outputs": [
    {
     "data": {
      "text/plain": [
       "mean_profile        0\n",
       "std_profile         0\n",
       "kurtosis_profile    0\n",
       "skewness_profile    0\n",
       "mean_dmsnr          0\n",
       "std_dmsnr           0\n",
       "kurtosis_dmsnr      0\n",
       "skewness_dmsnr      0\n",
       "target              0\n",
       "dtype: int64"
      ]
     },
     "execution_count": 14,
     "metadata": {},
     "output_type": "execute_result"
    }
   ],
   "source": [
    "df_train.isnull().sum()"
   ]
  },
  {
   "cell_type": "code",
   "execution_count": 15,
   "id": "2ac87853",
   "metadata": {
    "colab": {
     "base_uri": "https://localhost:8080/",
     "height": 344
    },
    "execution": {
     "iopub.execute_input": "2022-02-22T16:07:49.602604Z",
     "iopub.status.busy": "2022-02-22T16:07:49.602014Z",
     "iopub.status.idle": "2022-02-22T16:07:49.628258Z",
     "shell.execute_reply": "2022-02-22T16:07:49.628721Z",
     "shell.execute_reply.started": "2021-12-16T19:58:04.701492Z"
    },
    "id": "2ac87853",
    "outputId": "72152c87-279e-4514-bd18-3d7706b56e43",
    "papermill": {
     "duration": 0.102591,
     "end_time": "2022-02-22T16:07:49.628869",
     "exception": false,
     "start_time": "2022-02-22T16:07:49.526278",
     "status": "completed"
    },
    "tags": []
   },
   "outputs": [
    {
     "data": {
      "text/html": [
       "<div>\n",
       "<style scoped>\n",
       "    .dataframe tbody tr th:only-of-type {\n",
       "        vertical-align: middle;\n",
       "    }\n",
       "\n",
       "    .dataframe tbody tr th {\n",
       "        vertical-align: top;\n",
       "    }\n",
       "\n",
       "    .dataframe thead th {\n",
       "        text-align: right;\n",
       "    }\n",
       "</style>\n",
       "<table border=\"1\" class=\"dataframe\">\n",
       "  <thead>\n",
       "    <tr style=\"text-align: right;\">\n",
       "      <th></th>\n",
       "      <th>mean_profile</th>\n",
       "      <th>std_profile</th>\n",
       "      <th>kurtosis_profile</th>\n",
       "      <th>skewness_profile</th>\n",
       "      <th>mean_dmsnr</th>\n",
       "      <th>std_dmsnr</th>\n",
       "      <th>kurtosis_dmsnr</th>\n",
       "      <th>skewness_dmsnr</th>\n",
       "      <th>target</th>\n",
       "    </tr>\n",
       "  </thead>\n",
       "  <tbody>\n",
       "    <tr>\n",
       "      <th>count</th>\n",
       "      <td>12178.000000</td>\n",
       "      <td>12178.000000</td>\n",
       "      <td>12178.000000</td>\n",
       "      <td>12178.000000</td>\n",
       "      <td>12178.000000</td>\n",
       "      <td>12178.000000</td>\n",
       "      <td>12178.000000</td>\n",
       "      <td>12178.000000</td>\n",
       "      <td>12178.000000</td>\n",
       "    </tr>\n",
       "    <tr>\n",
       "      <th>mean</th>\n",
       "      <td>111.042773</td>\n",
       "      <td>46.524066</td>\n",
       "      <td>0.474125</td>\n",
       "      <td>1.779597</td>\n",
       "      <td>12.716495</td>\n",
       "      <td>26.327286</td>\n",
       "      <td>8.334956</td>\n",
       "      <td>105.618249</td>\n",
       "      <td>0.092215</td>\n",
       "    </tr>\n",
       "    <tr>\n",
       "      <th>std</th>\n",
       "      <td>25.714860</td>\n",
       "      <td>6.800527</td>\n",
       "      <td>1.055719</td>\n",
       "      <td>6.216014</td>\n",
       "      <td>29.689885</td>\n",
       "      <td>19.592032</td>\n",
       "      <td>4.550856</td>\n",
       "      <td>107.608300</td>\n",
       "      <td>0.289342</td>\n",
       "    </tr>\n",
       "    <tr>\n",
       "      <th>min</th>\n",
       "      <td>5.812500</td>\n",
       "      <td>24.772042</td>\n",
       "      <td>-1.738021</td>\n",
       "      <td>-1.791886</td>\n",
       "      <td>0.213211</td>\n",
       "      <td>7.370432</td>\n",
       "      <td>-3.139270</td>\n",
       "      <td>-1.976976</td>\n",
       "      <td>0.000000</td>\n",
       "    </tr>\n",
       "    <tr>\n",
       "      <th>25%</th>\n",
       "      <td>100.789062</td>\n",
       "      <td>42.376018</td>\n",
       "      <td>0.024913</td>\n",
       "      <td>-0.186722</td>\n",
       "      <td>1.908027</td>\n",
       "      <td>14.408116</td>\n",
       "      <td>5.790591</td>\n",
       "      <td>34.981860</td>\n",
       "      <td>0.000000</td>\n",
       "    </tr>\n",
       "    <tr>\n",
       "      <th>50%</th>\n",
       "      <td>115.132812</td>\n",
       "      <td>46.922871</td>\n",
       "      <td>0.223180</td>\n",
       "      <td>0.205012</td>\n",
       "      <td>2.794314</td>\n",
       "      <td>18.409978</td>\n",
       "      <td>8.445719</td>\n",
       "      <td>83.097824</td>\n",
       "      <td>0.000000</td>\n",
       "    </tr>\n",
       "    <tr>\n",
       "      <th>75%</th>\n",
       "      <td>127.156250</td>\n",
       "      <td>50.963185</td>\n",
       "      <td>0.471933</td>\n",
       "      <td>0.933865</td>\n",
       "      <td>5.447115</td>\n",
       "      <td>28.317409</td>\n",
       "      <td>10.731920</td>\n",
       "      <td>139.984107</td>\n",
       "      <td>0.000000</td>\n",
       "    </tr>\n",
       "    <tr>\n",
       "      <th>max</th>\n",
       "      <td>189.734375</td>\n",
       "      <td>91.808628</td>\n",
       "      <td>8.069522</td>\n",
       "      <td>68.101622</td>\n",
       "      <td>222.421405</td>\n",
       "      <td>110.642211</td>\n",
       "      <td>34.539844</td>\n",
       "      <td>1191.000837</td>\n",
       "      <td>1.000000</td>\n",
       "    </tr>\n",
       "  </tbody>\n",
       "</table>\n",
       "</div>"
      ],
      "text/plain": [
       "       mean_profile   std_profile  kurtosis_profile  skewness_profile  \\\n",
       "count  12178.000000  12178.000000      12178.000000      12178.000000   \n",
       "mean     111.042773     46.524066          0.474125          1.779597   \n",
       "std       25.714860      6.800527          1.055719          6.216014   \n",
       "min        5.812500     24.772042         -1.738021         -1.791886   \n",
       "25%      100.789062     42.376018          0.024913         -0.186722   \n",
       "50%      115.132812     46.922871          0.223180          0.205012   \n",
       "75%      127.156250     50.963185          0.471933          0.933865   \n",
       "max      189.734375     91.808628          8.069522         68.101622   \n",
       "\n",
       "         mean_dmsnr     std_dmsnr  kurtosis_dmsnr  skewness_dmsnr  \\\n",
       "count  12178.000000  12178.000000    12178.000000    12178.000000   \n",
       "mean      12.716495     26.327286        8.334956      105.618249   \n",
       "std       29.689885     19.592032        4.550856      107.608300   \n",
       "min        0.213211      7.370432       -3.139270       -1.976976   \n",
       "25%        1.908027     14.408116        5.790591       34.981860   \n",
       "50%        2.794314     18.409978        8.445719       83.097824   \n",
       "75%        5.447115     28.317409       10.731920      139.984107   \n",
       "max      222.421405    110.642211       34.539844     1191.000837   \n",
       "\n",
       "             target  \n",
       "count  12178.000000  \n",
       "mean       0.092215  \n",
       "std        0.289342  \n",
       "min        0.000000  \n",
       "25%        0.000000  \n",
       "50%        0.000000  \n",
       "75%        0.000000  \n",
       "max        1.000000  "
      ]
     },
     "execution_count": 15,
     "metadata": {},
     "output_type": "execute_result"
    }
   ],
   "source": [
    "df_train.describe()"
   ]
  },
  {
   "cell_type": "code",
   "execution_count": 16,
   "id": "6c8ea06d",
   "metadata": {
    "colab": {
     "base_uri": "https://localhost:8080/",
     "height": 344
    },
    "execution": {
     "iopub.execute_input": "2022-02-22T16:07:49.729041Z",
     "iopub.status.busy": "2022-02-22T16:07:49.728495Z",
     "iopub.status.idle": "2022-02-22T16:07:49.764338Z",
     "shell.execute_reply": "2022-02-22T16:07:49.763879Z",
     "shell.execute_reply.started": "2021-12-16T19:58:04.74706Z"
    },
    "id": "6c8ea06d",
    "outputId": "6a66345f-6102-4f8b-e56c-9444fcd34597",
    "papermill": {
     "duration": 0.088621,
     "end_time": "2022-02-22T16:07:49.764452",
     "exception": false,
     "start_time": "2022-02-22T16:07:49.675831",
     "status": "completed"
    },
    "tags": []
   },
   "outputs": [
    {
     "data": {
      "text/html": [
       "<div>\n",
       "<style scoped>\n",
       "    .dataframe tbody tr th:only-of-type {\n",
       "        vertical-align: middle;\n",
       "    }\n",
       "\n",
       "    .dataframe tbody tr th {\n",
       "        vertical-align: top;\n",
       "    }\n",
       "\n",
       "    .dataframe thead th {\n",
       "        text-align: right;\n",
       "    }\n",
       "</style>\n",
       "<table border=\"1\" class=\"dataframe\">\n",
       "  <thead>\n",
       "    <tr style=\"text-align: right;\">\n",
       "      <th></th>\n",
       "      <th>mean_profile</th>\n",
       "      <th>std_profile</th>\n",
       "      <th>kurtosis_profile</th>\n",
       "      <th>skewness_profile</th>\n",
       "      <th>mean_dmsnr</th>\n",
       "      <th>std_dmsnr</th>\n",
       "      <th>kurtosis_dmsnr</th>\n",
       "      <th>skewness_dmsnr</th>\n",
       "      <th>target</th>\n",
       "    </tr>\n",
       "  </thead>\n",
       "  <tbody>\n",
       "    <tr>\n",
       "      <th>count</th>\n",
       "      <td>12528.000000</td>\n",
       "      <td>12528.000000</td>\n",
       "      <td>10793.000000</td>\n",
       "      <td>12528.000000</td>\n",
       "      <td>12528.000000</td>\n",
       "      <td>11350.000000</td>\n",
       "      <td>12528.000000</td>\n",
       "      <td>11903.000000</td>\n",
       "      <td>12528.000000</td>\n",
       "    </tr>\n",
       "    <tr>\n",
       "      <th>mean</th>\n",
       "      <td>111.041841</td>\n",
       "      <td>46.521437</td>\n",
       "      <td>0.478548</td>\n",
       "      <td>1.778431</td>\n",
       "      <td>12.674758</td>\n",
       "      <td>26.351318</td>\n",
       "      <td>8.333489</td>\n",
       "      <td>105.525779</td>\n",
       "      <td>0.092034</td>\n",
       "    </tr>\n",
       "    <tr>\n",
       "      <th>std</th>\n",
       "      <td>25.672828</td>\n",
       "      <td>6.801077</td>\n",
       "      <td>1.064708</td>\n",
       "      <td>6.208450</td>\n",
       "      <td>29.613230</td>\n",
       "      <td>19.610842</td>\n",
       "      <td>4.535783</td>\n",
       "      <td>107.399585</td>\n",
       "      <td>0.289085</td>\n",
       "    </tr>\n",
       "    <tr>\n",
       "      <th>min</th>\n",
       "      <td>5.812500</td>\n",
       "      <td>24.772042</td>\n",
       "      <td>-1.738021</td>\n",
       "      <td>-1.791886</td>\n",
       "      <td>0.213211</td>\n",
       "      <td>7.370432</td>\n",
       "      <td>-3.139270</td>\n",
       "      <td>-1.976976</td>\n",
       "      <td>0.000000</td>\n",
       "    </tr>\n",
       "    <tr>\n",
       "      <th>25%</th>\n",
       "      <td>100.871094</td>\n",
       "      <td>42.362222</td>\n",
       "      <td>0.024652</td>\n",
       "      <td>-0.188142</td>\n",
       "      <td>1.910535</td>\n",
       "      <td>14.404353</td>\n",
       "      <td>5.803063</td>\n",
       "      <td>35.199899</td>\n",
       "      <td>0.000000</td>\n",
       "    </tr>\n",
       "    <tr>\n",
       "      <th>50%</th>\n",
       "      <td>115.183594</td>\n",
       "      <td>46.931022</td>\n",
       "      <td>0.223678</td>\n",
       "      <td>0.203317</td>\n",
       "      <td>2.792642</td>\n",
       "      <td>18.412402</td>\n",
       "      <td>8.451097</td>\n",
       "      <td>83.126301</td>\n",
       "      <td>0.000000</td>\n",
       "    </tr>\n",
       "    <tr>\n",
       "      <th>75%</th>\n",
       "      <td>127.109375</td>\n",
       "      <td>50.979103</td>\n",
       "      <td>0.473125</td>\n",
       "      <td>0.932374</td>\n",
       "      <td>5.413253</td>\n",
       "      <td>28.337418</td>\n",
       "      <td>10.727927</td>\n",
       "      <td>139.997850</td>\n",
       "      <td>0.000000</td>\n",
       "    </tr>\n",
       "    <tr>\n",
       "      <th>max</th>\n",
       "      <td>189.734375</td>\n",
       "      <td>91.808628</td>\n",
       "      <td>8.069522</td>\n",
       "      <td>68.101622</td>\n",
       "      <td>222.421405</td>\n",
       "      <td>110.642211</td>\n",
       "      <td>34.539844</td>\n",
       "      <td>1191.000837</td>\n",
       "      <td>1.000000</td>\n",
       "    </tr>\n",
       "  </tbody>\n",
       "</table>\n",
       "</div>"
      ],
      "text/plain": [
       "       mean_profile   std_profile  kurtosis_profile  skewness_profile  \\\n",
       "count  12528.000000  12528.000000      10793.000000      12528.000000   \n",
       "mean     111.041841     46.521437          0.478548          1.778431   \n",
       "std       25.672828      6.801077          1.064708          6.208450   \n",
       "min        5.812500     24.772042         -1.738021         -1.791886   \n",
       "25%      100.871094     42.362222          0.024652         -0.188142   \n",
       "50%      115.183594     46.931022          0.223678          0.203317   \n",
       "75%      127.109375     50.979103          0.473125          0.932374   \n",
       "max      189.734375     91.808628          8.069522         68.101622   \n",
       "\n",
       "         mean_dmsnr     std_dmsnr  kurtosis_dmsnr  skewness_dmsnr  \\\n",
       "count  12528.000000  11350.000000    12528.000000    11903.000000   \n",
       "mean      12.674758     26.351318        8.333489      105.525779   \n",
       "std       29.613230     19.610842        4.535783      107.399585   \n",
       "min        0.213211      7.370432       -3.139270       -1.976976   \n",
       "25%        1.910535     14.404353        5.803063       35.199899   \n",
       "50%        2.792642     18.412402        8.451097       83.126301   \n",
       "75%        5.413253     28.337418       10.727927      139.997850   \n",
       "max      222.421405    110.642211       34.539844     1191.000837   \n",
       "\n",
       "             target  \n",
       "count  12528.000000  \n",
       "mean       0.092034  \n",
       "std        0.289085  \n",
       "min        0.000000  \n",
       "25%        0.000000  \n",
       "50%        0.000000  \n",
       "75%        0.000000  \n",
       "max        1.000000  "
      ]
     },
     "execution_count": 16,
     "metadata": {},
     "output_type": "execute_result"
    }
   ],
   "source": [
    "df_train_copy.describe()"
   ]
  },
  {
   "cell_type": "markdown",
   "id": "406ee223",
   "metadata": {
    "id": "406ee223",
    "papermill": {
     "duration": 0.047877,
     "end_time": "2022-02-22T16:07:49.862380",
     "exception": false,
     "start_time": "2022-02-22T16:07:49.814503",
     "status": "completed"
    },
    "tags": []
   },
   "source": [
    "We can see that the mean and standard deviation values in the treated dataframe is close to the values in original dataframe. So we can consider this method for missing value treatment."
   ]
  },
  {
   "cell_type": "markdown",
   "id": "70b70ef9",
   "metadata": {
    "id": "70b70ef9",
    "papermill": {
     "duration": 0.046946,
     "end_time": "2022-02-22T16:07:49.956656",
     "exception": false,
     "start_time": "2022-02-22T16:07:49.909710",
     "status": "completed"
    },
    "tags": []
   },
   "source": [
    "### Dealing with Duplicate"
   ]
  },
  {
   "cell_type": "code",
   "execution_count": 17,
   "id": "5f32901e",
   "metadata": {
    "colab": {
     "base_uri": "https://localhost:8080/"
    },
    "execution": {
     "iopub.execute_input": "2022-02-22T16:07:50.057973Z",
     "iopub.status.busy": "2022-02-22T16:07:50.057243Z",
     "iopub.status.idle": "2022-02-22T16:07:50.073069Z",
     "shell.execute_reply": "2022-02-22T16:07:50.072196Z",
     "shell.execute_reply.started": "2021-12-16T19:58:04.787198Z"
    },
    "id": "5f32901e",
    "outputId": "fff3176b-4038-44f9-e4d6-a21473fe9b38",
    "papermill": {
     "duration": 0.068835,
     "end_time": "2022-02-22T16:07:50.073208",
     "exception": false,
     "start_time": "2022-02-22T16:07:50.004373",
     "status": "completed"
    },
    "tags": []
   },
   "outputs": [
    {
     "data": {
      "text/plain": [
       "0"
      ]
     },
     "execution_count": 17,
     "metadata": {},
     "output_type": "execute_result"
    }
   ],
   "source": [
    "df_train.duplicated().sum()"
   ]
  },
  {
   "cell_type": "markdown",
   "id": "530fb8c2",
   "metadata": {
    "id": "530fb8c2",
    "papermill": {
     "duration": 0.048529,
     "end_time": "2022-02-22T16:07:50.171391",
     "exception": false,
     "start_time": "2022-02-22T16:07:50.122862",
     "status": "completed"
    },
    "tags": []
   },
   "source": [
    "there is no duplicated data"
   ]
  },
  {
   "cell_type": "markdown",
   "id": "7bbbabb6",
   "metadata": {
    "id": "7bbbabb6",
    "papermill": {
     "duration": 0.04812,
     "end_time": "2022-02-22T16:07:50.267988",
     "exception": false,
     "start_time": "2022-02-22T16:07:50.219868",
     "status": "completed"
    },
    "tags": []
   },
   "source": [
    "### Dealing with Outliers"
   ]
  },
  {
   "cell_type": "code",
   "execution_count": 18,
   "id": "7eadc296",
   "metadata": {
    "colab": {
     "base_uri": "https://localhost:8080/",
     "height": 1000
    },
    "execution": {
     "iopub.execute_input": "2022-02-22T16:07:50.370738Z",
     "iopub.status.busy": "2022-02-22T16:07:50.370254Z",
     "iopub.status.idle": "2022-02-22T16:07:51.527142Z",
     "shell.execute_reply": "2022-02-22T16:07:51.527640Z",
     "shell.execute_reply.started": "2021-12-16T19:58:04.810707Z"
    },
    "id": "7eadc296",
    "outputId": "05823036-478e-45f6-f57c-6adc1dfbf581",
    "papermill": {
     "duration": 1.210707,
     "end_time": "2022-02-22T16:07:51.527773",
     "exception": false,
     "start_time": "2022-02-22T16:07:50.317066",
     "status": "completed"
    },
    "tags": []
   },
   "outputs": [
    {
     "data": {
      "text/plain": [
       "mean_profile           AxesSubplot(0.125,0.657941;0.227941x0.222059)\n",
       "std_profile         AxesSubplot(0.398529,0.657941;0.227941x0.222059)\n",
       "kurtosis_profile    AxesSubplot(0.672059,0.657941;0.227941x0.222059)\n",
       "skewness_profile       AxesSubplot(0.125,0.391471;0.227941x0.222059)\n",
       "mean_dmsnr          AxesSubplot(0.398529,0.391471;0.227941x0.222059)\n",
       "std_dmsnr           AxesSubplot(0.672059,0.391471;0.227941x0.222059)\n",
       "kurtosis_dmsnr            AxesSubplot(0.125,0.125;0.227941x0.222059)\n",
       "skewness_dmsnr         AxesSubplot(0.398529,0.125;0.227941x0.222059)\n",
       "target                 AxesSubplot(0.672059,0.125;0.227941x0.222059)\n",
       "dtype: object"
      ]
     },
     "execution_count": 18,
     "metadata": {},
     "output_type": "execute_result"
    },
    {
     "data": {
      "image/png": "[encoded data removed]",
      "text/plain": [
       "<Figure size 1296x1080 with 9 Axes>"
      ]
     },
     "metadata": {
      "needs_background": "light"
     },
     "output_type": "display_data"
    }
   ],
   "source": [
    "df_train.plot(kind = \"box\" , subplots = True , figsize = (18,15) ,  layout = (3,3))"
   ]
  },
  {
   "cell_type": "code",
   "execution_count": 19,
   "id": "2193fa0e",
   "metadata": {
    "execution": {
     "iopub.execute_input": "2022-02-22T16:07:51.632223Z",
     "iopub.status.busy": "2022-02-22T16:07:51.631678Z",
     "iopub.status.idle": "2022-02-22T16:07:51.691988Z",
     "shell.execute_reply": "2022-02-22T16:07:51.692392Z",
     "shell.execute_reply.started": "2021-12-16T19:58:06.00514Z"
    },
    "id": "2193fa0e",
    "papermill": {
     "duration": 0.114126,
     "end_time": "2022-02-22T16:07:51.692551",
     "exception": false,
     "start_time": "2022-02-22T16:07:51.578425",
     "status": "completed"
    },
    "tags": []
   },
   "outputs": [],
   "source": [
    "df_train_outl = df_train.copy()\n",
    "def remove_outlier(col):\n",
    "    sorted(col)\n",
    "    Q1,Q3=np.percentile(col,[25,75])\n",
    "    IQR=Q3-Q1\n",
    "    lower_range= Q1-(1.5 * IQR)\n",
    "    upper_range= Q3+(1.5 * IQR)\n",
    "    return lower_range, upper_range\n",
    "\n",
    "for column in df_train_outl.loc[:,:'skewness_dmsnr'].columns:\n",
    "    if 1==1:\n",
    "        lr,ur=remove_outlier(df_train_outl[column])\n",
    "        df_train_outl[column]=np.where(df_train_outl[column]>ur,ur,df_train_outl[column])\n",
    "        df_train_outl[column]=np.where(df_train_outl[column]<lr,lr,df_train_outl[column])"
   ]
  },
  {
   "cell_type": "code",
   "execution_count": 20,
   "id": "3027b4eb",
   "metadata": {
    "colab": {
     "base_uri": "https://localhost:8080/",
     "height": 718
    },
    "execution": {
     "iopub.execute_input": "2022-02-22T16:07:51.818206Z",
     "iopub.status.busy": "2022-02-22T16:07:51.798029Z",
     "iopub.status.idle": "2022-02-22T16:07:52.141310Z",
     "shell.execute_reply": "2022-02-22T16:07:52.140764Z",
     "shell.execute_reply.started": "2021-12-16T19:58:06.064283Z"
    },
    "id": "3027b4eb",
    "outputId": "08342910-8311-4315-868d-8b1dd7bedfd7",
    "papermill": {
     "duration": 0.398208,
     "end_time": "2022-02-22T16:07:52.141456",
     "exception": false,
     "start_time": "2022-02-22T16:07:51.743248",
     "status": "completed"
    },
    "tags": []
   },
   "outputs": [
    {
     "data": {
      "text/plain": [
       "<AxesSubplot:title={'center':'Without Outliers'}>"
      ]
     },
     "execution_count": 20,
     "metadata": {},
     "output_type": "execute_result"
    },
    {
     "data": {
      "image/png": "[encoded data removed]",
      "text/plain": [
       "<Figure size 720x576 with 1 Axes>"
      ]
     },
     "metadata": {
      "needs_background": "light"
     },
     "output_type": "display_data"
    }
   ],
   "source": [
    "plt.figure(figsize=(10,8))\n",
    "plt.title('Without Outliers',fontsize=16)\n",
    "df_train_outl.boxplot(vert=0)"
   ]
  },
  {
   "cell_type": "code",
   "execution_count": 21,
   "id": "48d68433",
   "metadata": {
    "colab": {
     "base_uri": "https://localhost:8080/"
    },
    "execution": {
     "iopub.execute_input": "2022-02-22T16:07:52.296306Z",
     "iopub.status.busy": "2022-02-22T16:07:52.295667Z",
     "iopub.status.idle": "2022-02-22T16:07:52.302981Z",
     "shell.execute_reply": "2022-02-22T16:07:52.303480Z",
     "shell.execute_reply.started": "2021-12-16T19:58:06.513376Z"
    },
    "id": "48d68433",
    "outputId": "9ef81482-d4e0-4c9c-9541-560f3dd9c9d3",
    "papermill": {
     "duration": 0.08741,
     "end_time": "2022-02-22T16:07:52.303651",
     "exception": false,
     "start_time": "2022-02-22T16:07:52.216241",
     "status": "completed"
    },
    "tags": []
   },
   "outputs": [
    {
     "name": "stdout",
     "output_type": "stream",
     "text": [
      "<class 'pandas.core.frame.DataFrame'>\n",
      "Int64Index: 12178 entries, 0 to 12527\n",
      "Data columns (total 9 columns):\n",
      " #   Column            Non-Null Count  Dtype  \n",
      "---  ------            --------------  -----  \n",
      " 0   mean_profile      12178 non-null  float64\n",
      " 1   std_profile       12178 non-null  float64\n",
      " 2   kurtosis_profile  12178 non-null  float64\n",
      " 3   skewness_profile  12178 non-null  float64\n",
      " 4   mean_dmsnr        12178 non-null  float64\n",
      " 5   std_dmsnr         12178 non-null  float64\n",
      " 6   kurtosis_dmsnr    12178 non-null  float64\n",
      " 7   skewness_dmsnr    12178 non-null  float64\n",
      " 8   target            12178 non-null  float64\n",
      "dtypes: float64(9)\n",
      "memory usage: 951.4 KB\n"
     ]
    }
   ],
   "source": [
    "df_train_outl.info()"
   ]
  },
  {
   "cell_type": "markdown",
   "id": "95459dc8",
   "metadata": {
    "id": "95459dc8",
    "papermill": {
     "duration": 0.075659,
     "end_time": "2022-02-22T16:07:52.454499",
     "exception": false,
     "start_time": "2022-02-22T16:07:52.378840",
     "status": "completed"
    },
    "tags": []
   },
   "source": [
    "# Modeling"
   ]
  },
  {
   "cell_type": "markdown",
   "id": "c96146ce",
   "metadata": {
    "id": "c96146ce",
    "papermill": {
     "duration": 0.074281,
     "end_time": "2022-02-22T16:07:52.604731",
     "exception": false,
     "start_time": "2022-02-22T16:07:52.530450",
     "status": "completed"
    },
    "tags": []
   },
   "source": [
    "### Split the data"
   ]
  },
  {
   "cell_type": "code",
   "execution_count": 22,
   "id": "89713fcf",
   "metadata": {
    "execution": {
     "iopub.execute_input": "2022-02-22T16:07:52.758100Z",
     "iopub.status.busy": "2022-02-22T16:07:52.757452Z",
     "iopub.status.idle": "2022-02-22T16:07:52.764281Z",
     "shell.execute_reply": "2022-02-22T16:07:52.764779Z",
     "shell.execute_reply.started": "2021-12-16T19:58:06.528571Z"
    },
    "id": "89713fcf",
    "papermill": {
     "duration": 0.084741,
     "end_time": "2022-02-22T16:07:52.764974",
     "exception": false,
     "start_time": "2022-02-22T16:07:52.680233",
     "status": "completed"
    },
    "tags": []
   },
   "outputs": [],
   "source": [
    "X = df_train_outl.drop('target',axis=1)\n",
    "y = df_train_outl[['target']]\n",
    "X_train, X_test, labels_train, labels_test = train_test_split(X, y, test_size=.30, random_state=1)"
   ]
  },
  {
   "cell_type": "code",
   "execution_count": 23,
   "id": "b5a79778",
   "metadata": {},
   "outputs": [
    {
     "name": "stdout",
     "output_type": "stream",
     "text": [
      "(8524, 8)\n",
      "(3654, 8)\n",
      "(8524, 1)\n",
      "(3654, 1)\n"
     ]
    }
   ],
   "source": [
    "print(X_train.shape)\n",
    "print(X_test.shape)\n",
    "print(labels_train.shape)\n",
    "print(labels_test.shape)"
   ]
  },
  {
   "cell_type": "code",
   "execution_count": 24,
   "id": "76fa92c1",
   "metadata": {
    "execution": {
     "iopub.execute_input": "2022-02-22T16:07:52.921227Z",
     "iopub.status.busy": "2022-02-22T16:07:52.920577Z",
     "iopub.status.idle": "2022-02-22T16:07:52.928636Z",
     "shell.execute_reply": "2022-02-22T16:07:52.929165Z",
     "shell.execute_reply.started": "2021-12-16T19:58:06.541887Z"
    },
    "id": "76fa92c1",
    "papermill": {
     "duration": 0.087179,
     "end_time": "2022-02-22T16:07:52.929344",
     "exception": false,
     "start_time": "2022-02-22T16:07:52.842165",
     "status": "completed"
    },
    "tags": []
   },
   "outputs": [],
   "source": [
    "# Scaling the data\n",
    "ss=StandardScaler() \n",
    "X_trains = ss.fit_transform(X_train)\n",
    "X_tests = ss.transform(X_test)"
   ]
  },
  {
   "cell_type": "code",
   "execution_count": 25,
   "id": "ahW4VOBedI3p",
   "metadata": {
    "colab": {
     "base_uri": "https://localhost:8080/"
    },
    "id": "ahW4VOBedI3p",
    "outputId": "f63078e9-0afd-4c42-c6b3-7d97a43293d6"
   },
   "outputs": [
    {
     "data": {
      "text/plain": [
       "(8524, 8)"
      ]
     },
     "execution_count": 25,
     "metadata": {},
     "output_type": "execute_result"
    }
   ],
   "source": [
    "X_trains.shape"
   ]
  },
  {
   "cell_type": "code",
   "execution_count": 26,
   "id": "839ab450",
   "metadata": {},
   "outputs": [],
   "source": [
    "def excel_export(report_dict,best_params,sheet_name,writer):\n",
    "  df = pd.DataFrame(report_dict).transpose()\n",
    "  df_mejor_valores = pd.DataFrame.from_dict(best_params, orient='index', columns=['Valor']).T\n",
    "  df_final = pd.concat([df, df_mejor_valores], axis=1,ignore_index=False, keys=[str(best_params)])\n",
    "  df_final.to_excel(writer, sheet_name=sheet_name)"
   ]
  },
  {
   "cell_type": "code",
   "execution_count": 27,
   "id": "ff674326",
   "metadata": {},
   "outputs": [
    {
     "data": {
      "text/plain": [
       "'\\nX_trains = X_trains[:100, :]\\nX_tests = X_tests[:100, :]\\n\\nlabels_train = labels_train[:100]\\nlabels_test = labels_test[:100]\\n\\nlabels_train.shape\\n'"
      ]
     },
     "execution_count": 27,
     "metadata": {},
     "output_type": "execute_result"
    }
   ],
   "source": [
    "\"\"\"\n",
    "X_trains = X_trains[:100, :]\n",
    "X_tests = X_tests[:100, :]\n",
    "\n",
    "labels_train = labels_train[:100]\n",
    "labels_test = labels_test[:100]\n",
    "\n",
    "labels_train.shape\n",
    "\"\"\""
   ]
  },
  {
   "cell_type": "markdown",
   "id": "de9749a3",
   "metadata": {
    "id": "de9749a3",
    "papermill": {
     "duration": 0.07459,
     "end_time": "2022-02-22T16:07:53.078910",
     "exception": false,
     "start_time": "2022-02-22T16:07:53.004320",
     "status": "completed"
    },
    "tags": []
   },
   "source": [
    "## Bulid the model"
   ]
  },
  {
   "cell_type": "code",
   "execution_count": 28,
   "id": "272af866",
   "metadata": {},
   "outputs": [
    {
     "name": "stdout",
     "output_type": "stream",
     "text": [
      "Fitting 10 folds for each of 10 candidates, totalling 100 fits\n"
     ]
    }
   ],
   "source": [
    "#GridSearch Parameters\n",
    "C = [0.1,0.8,0.9,1,1.1,1.2,1.3,1.4]\n",
    "kernel = ['linear', 'rbf']\n",
    "gamma = [0.1,0.8,0.9,1,1.1,1.2,1.3,1.4]\n",
    "param_grid = {'C': C,\n",
    "               'kernel': kernel,\n",
    "               'gamma': gamma,\n",
    "             }\n",
    "\n",
    "SVM_param_grid = {'C': [0.01,0.1, 1, 10],  \n",
    "              'gamma': [0.09, 0.1, 0.2, 0.001], \n",
    "              'kernel': ['rbf', 'linear'],\n",
    "              'tol':[0.001,0.0001],\n",
    "              'degree':[2,3]}\n",
    "\n",
    "writer = pd.ExcelWriter('resultados_classic.xlsx', engine='xlsxwriter')\n",
    "SVC_Model = SVC()\n",
    "rf_RandomGrid = RandomizedSearchCV(estimator = SVC_Model, param_distributions = SVM_param_grid, cv = 10, verbose=2, n_jobs = 4,n_iter=10)\n",
    "rf_RandomGrid.fit(X_trains, labels_train)\n",
    "best_params = rf_RandomGrid.best_params_\n",
    "best_estimator = rf_RandomGrid.best_estimator_\n",
    "y_predict_classical = best_estimator.predict(X_tests)\n",
    "metric_report_classical =  classification_report(labels_test, y_predict_classical)\n",
    "report_dict = classification_report(labels_test, y_predict_classical, output_dict=True)\n",
    "excel_export(report_dict=report_dict,best_params=best_params, sheet_name=\"Hoja1\",writer=writer)\n",
    "writer.save()"
   ]
  },
  {
   "cell_type": "code",
   "execution_count": 29,
   "id": "mxPwGHX0pflG",
   "metadata": {
    "id": "mxPwGHX0pflG"
   },
   "outputs": [],
   "source": [
    "# Qiskit Imports\n",
    "from qiskit import Aer\n",
    "from qiskit.circuit import QuantumCircuit, ParameterVector\n",
    "from qiskit.circuit.library import PauliFeatureMap, ZFeatureMap, ZZFeatureMap\n",
    "from qiskit_machine_learning.kernels import QuantumKernel\n",
    "from qiskit.utils import QuantumInstance"
   ]
  },
  {
   "cell_type": "code",
   "execution_count": 30,
   "id": "APdYTAkojtcp",
   "metadata": {
    "id": "APdYTAkojtcp"
   },
   "outputs": [],
   "source": [
    "quantum_instance = QuantumInstance(Aer.get_backend('statevector_simulator'))"
   ]
  },
  {
   "cell_type": "code",
   "execution_count": 31,
   "id": "16b8ddc1",
   "metadata": {},
   "outputs": [],
   "source": [
    "def new_feature_map(feature_dimension, repeats = 1):\n",
    "  \"\"\"\n",
    "  Feature function that encoding the classical data to quantum states\n",
    "  This function is to use with the qiskit functions\n",
    "  Args:\n",
    "      repeats (int): Number of repetitions of the quantum circuit\n",
    "  Returns:\n",
    "      The qiskit circuit\n",
    "  \"\"\"\n",
    "  qubits = feature_dimension #Number of features (columns) of the training data\n",
    "\n",
    "  x = ParameterVector('x', length=qubits)\n",
    "  var_custom = QuantumCircuit(qubits)\n",
    "\n",
    "  for _ in range(repeats):\n",
    "      for i in range(qubits):\n",
    "          var_custom.rx(x[i], i)\n",
    "      for i in range(qubits):\n",
    "          for j in range(i + 1, qubits):\n",
    "              var_custom.cx(i, j)\n",
    "              var_custom.p(x[i] * x[j], j)\n",
    "              var_custom.cx(i, j)\n",
    "      var_custom.barrier()\n",
    "            \n",
    "  return var_custom"
   ]
  },
  {
   "cell_type": "code",
   "execution_count": 32,
   "id": "93ab5f69",
   "metadata": {},
   "outputs": [
    {
     "name": "stdout",
     "output_type": "stream",
     "text": [
      "Fitting 5 folds for each of 10 candidates, totalling 50 fits\n",
      "Fitting 5 folds for each of 10 candidates, totalling 50 fits\n",
      "Fitting 5 folds for each of 10 candidates, totalling 50 fits\n"
     ]
    }
   ],
   "source": [
    "#GridSearch Parameters\n",
    "C = [0.1, 0.8, 0.9, 1, 1.2, 1.3, 1.4]\n",
    "gamma = [0.01, 0.9, 1, 1.2, 1.4, 1.5]\n",
    "param_grid = {'C': C,\n",
    "               'gamma': gamma,\n",
    "             }\n",
    "\n",
    "writer = pd.ExcelWriter('resultados_quantum.xlsx', engine='xlsxwriter')\n",
    "numero_de_componentes = X_trains.shape[1]\n",
    "\n",
    "feature_maps = [\n",
    "  ZZFeatureMap(feature_dimension=numero_de_componentes, reps=2),\n",
    "  ZFeatureMap(feature_dimension=numero_de_componentes, reps=2),\n",
    "  new_feature_map(feature_dimension=numero_de_componentes, repeats = 1)\n",
    "]\n",
    "SVC_Model = SVC(kernel='precomputed')\n",
    "for feature_map in feature_maps:\n",
    "  # Calcular la matriz de kernel cuántico\n",
    "  custom_kernel_v1 = QuantumKernel(feature_map=feature_map, quantum_instance=quantum_instance)\n",
    "  kernel_train = custom_kernel_v1.evaluate(x_vec=X_trains)\n",
    "  kernel_test = custom_kernel_v1.evaluate(x_vec=X_tests, y_vec=X_trains)\n",
    "  # Realizar la búsqueda de cuadrícula\n",
    "  rf_RandomGrid = RandomizedSearchCV(estimator = SVC_Model, param_distributions = param_grid, cv = 5, verbose=2, n_jobs = 4,n_iter=10)\n",
    "  rf_RandomGrid.fit(kernel_train, labels_train)\n",
    "  best_params = rf_RandomGrid.best_params_\n",
    "  best_estimator = rf_RandomGrid.best_estimator_\n",
    "  y_predict_classical = best_estimator.predict(kernel_test)\n",
    "  metric_report_classical =  classification_report(labels_test, y_predict_classical)\n",
    "  report_dict = classification_report(labels_test, y_predict_classical, output_dict=True)\n",
    "  excel_export(report_dict=report_dict,best_params=best_params, sheet_name=\"{}\".format(type(feature_map).__name__),writer=writer)\n",
    "writer.save()\n"
   ]
  },
  {
   "cell_type": "code",
   "execution_count": null,
   "id": "l-lyxmiOqYk5",
   "metadata": {
    "id": "l-lyxmiOqYk5"
   },
   "outputs": [],
   "source": []
  }
 ],
 "metadata": {
  "colab": {
   "provenance": []
  },
  "kernelspec": {
   "display_name": "Python 3 (ipykernel)",
   "language": "python",
   "name": "python3"
  },
  "language_info": {
   "codemirror_mode": {
    "name": "ipython",
    "version": 3
   },
   "file_extension": ".py",
   "mimetype": "text/x-python",
   "name": "python",
   "nbconvert_exporter": "python",
   "pygments_lexer": "ipython3",
   "version": "3.8.8"
  },
  "papermill": {
   "default_parameters": {},
   "duration": 71.5855,
   "end_time": "2022-02-22T16:08:40.553208",
   "environment_variables": {},
   "exception": null,
   "input_path": "__notebook__.ipynb",
   "output_path": "__notebook__.ipynb",
   "parameters": {},
   "start_time": "2022-02-22T16:07:28.967708",
   "version": "2.3.3"
  }
 },
 "nbformat": 4,
 "nbformat_minor": 5
}
