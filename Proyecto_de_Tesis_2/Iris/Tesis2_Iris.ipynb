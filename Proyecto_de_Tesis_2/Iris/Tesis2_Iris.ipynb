{
 "cells": [
  {
   "cell_type": "markdown",
   "metadata": {
    "id": "1OJTVlfAiitI"
   },
   "source": [
    "# QSVM\n"
   ]
  },
  {
   "cell_type": "markdown",
   "metadata": {
    "id": "cdXhA-bWqS3B"
   },
   "source": [
    "\n",
    "\n",
    "---\n"
   ]
  },
  {
   "cell_type": "markdown",
   "metadata": {
    "id": "7hUnuvcupJ8W"
   },
   "source": [
    "#### To begging I would like to divide this task in two parts\n",
    "#### 1.  **Classical Part**\n",
    "#### 2.   **Quantum Part**\n",
    "#### The idea is compare the results in both parts"
   ]
  },
  {
   "cell_type": "markdown",
   "metadata": {
    "id": "fELOeMKLBKCG"
   },
   "source": [
    "# **Classical Part**"
   ]
  },
  {
   "cell_type": "markdown",
   "metadata": {
    "id": "TIhnshrUPVZQ"
   },
   "source": [
    "\n",
    "\n",
    "### In this part, I'll cover everything about preprocessing and manipulating the data set, in such a way that it can be used to train a classic SVC model. Also the training data would be ready to be used in the Quantum Part.\n",
    "\n",
    "\n",
    "\n"
   ]
  },
  {
   "cell_type": "code",
   "execution_count": null,
   "metadata": {
    "id": "6ITEX2vU5Rbp"
   },
   "outputs": [],
   "source": [
    "from IPython.display import clear_output"
   ]
  },
  {
   "cell_type": "code",
   "execution_count": null,
   "metadata": {
    "id": "-FLsu-dsIurL"
   },
   "outputs": [],
   "source": [
    "!pip install 'qiskit[nature]'\n",
    "!pip install qiskit[visualization]\n",
    "!pip install qiskit-machine-learning\n",
    "!pip install ibm_quantum_widgets\n",
    "!pip install pylatexenc\n",
    "clear_output()"
   ]
  },
  {
   "cell_type": "code",
   "execution_count": null,
   "metadata": {
    "id": "gXzgm4CpUXsh"
   },
   "outputs": [],
   "source": [
    "!pip install scikit-learn==1.0.2\n",
    "clear_output()"
   ]
  },
  {
   "cell_type": "code",
   "execution_count": null,
   "metadata": {
    "colab": {
     "base_uri": "https://localhost:8080/",
     "height": 35
    },
    "id": "p92e4MvuUi5o",
    "outputId": "4bfc0234-7b79-47d8-86eb-b31ecc1684a5"
   },
   "outputs": [
    {
     "data": {
      "application/vnd.google.colaboratory.intrinsic+json": {
       "type": "string"
      },
      "text/plain": [
       "'1.0.2'"
      ]
     },
     "execution_count": 4,
     "metadata": {},
     "output_type": "execute_result"
    }
   ],
   "source": [
    "import sklearn\n",
    "sklearn.__version__"
   ]
  },
  {
   "cell_type": "code",
   "execution_count": null,
   "metadata": {
    "id": "uPLmZXXGMTS4"
   },
   "outputs": [],
   "source": [
    "# General Imports\n",
    "import numpy as np\n",
    "import pandas as pd\n",
    "import time\n",
    "\n",
    "# Visualisation Imports\n",
    "import matplotlib.pyplot as plt\n",
    "import seaborn as sns\n",
    "\n",
    "# scikit-learn Imports\n",
    "from sklearn import datasets\n",
    "from sklearn.svm import SVC\n",
    "from sklearn.decomposition import PCA\n",
    "from sklearn.preprocessing import StandardScaler, MinMaxScaler, LabelEncoder\n",
    "from sklearn.model_selection import RandomizedSearchCV, train_test_split\n",
    "from sklearn.metrics import classification_report, confusion_matrix\n"
   ]
  },
  {
   "cell_type": "markdown",
   "metadata": {
    "id": "bfAkiVtdKo9l"
   },
   "source": [
    "\n",
    "\n",
    "> ##### To this oportunity I will use Qiskit that is a software development kit created by IBM to work with quantum computers.\n",
    "\n"
   ]
  },
  {
   "cell_type": "code",
   "execution_count": null,
   "metadata": {
    "id": "OREwZuX7bxPW"
   },
   "outputs": [],
   "source": [
    "# Qiskit Imports\n",
    "from qiskit import Aer, execute\n",
    "from qiskit.circuit import QuantumCircuit, Parameter, ParameterVector, QuantumRegister, ClassicalRegister\n",
    "from qiskit.circuit.library import PauliFeatureMap, ZFeatureMap, ZZFeatureMap\n",
    "from qiskit.circuit.library import TwoLocal, NLocal, RealAmplitudes, EfficientSU2\n",
    "from qiskit.circuit.library import HGate, RXGate, RYGate, RZGate, CXGate, CRXGate, CRZGate\n",
    "from qiskit_machine_learning.kernels import QuantumKernel\n",
    "from qiskit.tools.monitor import job_monitor"
   ]
  },
  {
   "cell_type": "markdown",
   "metadata": {
    "id": "kWOmdrDhbMKk"
   },
   "source": [
    "### **Getting Data**"
   ]
  },
  {
   "cell_type": "code",
   "execution_count": null,
   "metadata": {
    "colab": {
     "base_uri": "https://localhost:8080/"
    },
    "id": "zmdKX3zhb_a2",
    "outputId": "54d6e9a1-c9ac-4c9d-ffeb-193633f69694"
   },
   "outputs": [
    {
     "name": "stdout",
     "output_type": "stream",
     "text": [
      "Data Shape:  (150, 5)\n"
     ]
    }
   ],
   "source": [
    "data = pd.read_csv(\"/content/iris.data\",header=None)\n",
    "data.columns=['sepal_length', 'sepal_width', 'petal_length', 'petal_width', 'class']\n",
    "print(\"Data Shape: \", data.shape)"
   ]
  },
  {
   "cell_type": "markdown",
   "metadata": {
    "id": "6riamTPhbaEJ"
   },
   "source": [
    "### **Pre processing Data**"
   ]
  },
  {
   "cell_type": "code",
   "execution_count": null,
   "metadata": {
    "colab": {
     "base_uri": "https://localhost:8080/",
     "height": 300
    },
    "id": "f6CyMfvzcBbJ",
    "outputId": "4e11b456-f1aa-49b9-94fe-c9694992276a"
   },
   "outputs": [
    {
     "data": {
      "text/html": [
       "\n",
       "  <div id=\"df-8a9b9513-d6e5-42e9-9917-df1401d6319c\">\n",
       "    <div class=\"colab-df-container\">\n",
       "      <div>\n",
       "<style scoped>\n",
       "    .dataframe tbody tr th:only-of-type {\n",
       "        vertical-align: middle;\n",
       "    }\n",
       "\n",
       "    .dataframe tbody tr th {\n",
       "        vertical-align: top;\n",
       "    }\n",
       "\n",
       "    .dataframe thead th {\n",
       "        text-align: right;\n",
       "    }\n",
       "</style>\n",
       "<table border=\"1\" class=\"dataframe\">\n",
       "  <thead>\n",
       "    <tr style=\"text-align: right;\">\n",
       "      <th></th>\n",
       "      <th>sepal_length</th>\n",
       "      <th>sepal_width</th>\n",
       "      <th>petal_length</th>\n",
       "      <th>petal_width</th>\n",
       "    </tr>\n",
       "  </thead>\n",
       "  <tbody>\n",
       "    <tr>\n",
       "      <th>count</th>\n",
       "      <td>150.000000</td>\n",
       "      <td>150.000000</td>\n",
       "      <td>150.000000</td>\n",
       "      <td>150.000000</td>\n",
       "    </tr>\n",
       "    <tr>\n",
       "      <th>mean</th>\n",
       "      <td>5.843333</td>\n",
       "      <td>3.054000</td>\n",
       "      <td>3.758667</td>\n",
       "      <td>1.198667</td>\n",
       "    </tr>\n",
       "    <tr>\n",
       "      <th>std</th>\n",
       "      <td>0.828066</td>\n",
       "      <td>0.433594</td>\n",
       "      <td>1.764420</td>\n",
       "      <td>0.763161</td>\n",
       "    </tr>\n",
       "    <tr>\n",
       "      <th>min</th>\n",
       "      <td>4.300000</td>\n",
       "      <td>2.000000</td>\n",
       "      <td>1.000000</td>\n",
       "      <td>0.100000</td>\n",
       "    </tr>\n",
       "    <tr>\n",
       "      <th>25%</th>\n",
       "      <td>5.100000</td>\n",
       "      <td>2.800000</td>\n",
       "      <td>1.600000</td>\n",
       "      <td>0.300000</td>\n",
       "    </tr>\n",
       "    <tr>\n",
       "      <th>50%</th>\n",
       "      <td>5.800000</td>\n",
       "      <td>3.000000</td>\n",
       "      <td>4.350000</td>\n",
       "      <td>1.300000</td>\n",
       "    </tr>\n",
       "    <tr>\n",
       "      <th>75%</th>\n",
       "      <td>6.400000</td>\n",
       "      <td>3.300000</td>\n",
       "      <td>5.100000</td>\n",
       "      <td>1.800000</td>\n",
       "    </tr>\n",
       "    <tr>\n",
       "      <th>max</th>\n",
       "      <td>7.900000</td>\n",
       "      <td>4.400000</td>\n",
       "      <td>6.900000</td>\n",
       "      <td>2.500000</td>\n",
       "    </tr>\n",
       "  </tbody>\n",
       "</table>\n",
       "</div>\n",
       "      <button class=\"colab-df-convert\" onclick=\"convertToInteractive('df-8a9b9513-d6e5-42e9-9917-df1401d6319c')\"\n",
       "              title=\"Convert this dataframe to an interactive table.\"\n",
       "              style=\"display:none;\">\n",
       "        \n",
       "  <svg xmlns=\"http://www.w3.org/2000/svg\" height=\"24px\"viewBox=\"0 0 24 24\"\n",
       "       width=\"24px\">\n",
       "    <path d=\"M0 0h24v24H0V0z\" fill=\"none\"/>\n",
       "    <path d=\"M18.56 5.44l.94 2.06.94-2.06 2.06-.94-2.06-.94-.94-2.06-.94 2.06-2.06.94zm-11 1L8.5 8.5l.94-2.06 2.06-.94-2.06-.94L8.5 2.5l-.94 2.06-2.06.94zm10 10l.94 2.06.94-2.06 2.06-.94-2.06-.94-.94-2.06-.94 2.06-2.06.94z\"/><path d=\"M17.41 7.96l-1.37-1.37c-.4-.4-.92-.59-1.43-.59-.52 0-1.04.2-1.43.59L10.3 9.45l-7.72 7.72c-.78.78-.78 2.05 0 2.83L4 21.41c.39.39.9.59 1.41.59.51 0 1.02-.2 1.41-.59l7.78-7.78 2.81-2.81c.8-.78.8-2.07 0-2.86zM5.41 20L4 18.59l7.72-7.72 1.47 1.35L5.41 20z\"/>\n",
       "  </svg>\n",
       "      </button>\n",
       "      \n",
       "  <style>\n",
       "    .colab-df-container {\n",
       "      display:flex;\n",
       "      flex-wrap:wrap;\n",
       "      gap: 12px;\n",
       "    }\n",
       "\n",
       "    .colab-df-convert {\n",
       "      background-color: #E8F0FE;\n",
       "      border: none;\n",
       "      border-radius: 50%;\n",
       "      cursor: pointer;\n",
       "      display: none;\n",
       "      fill: #1967D2;\n",
       "      height: 32px;\n",
       "      padding: 0 0 0 0;\n",
       "      width: 32px;\n",
       "    }\n",
       "\n",
       "    .colab-df-convert:hover {\n",
       "      background-color: #E2EBFA;\n",
       "      box-shadow: 0px 1px 2px rgba(60, 64, 67, 0.3), 0px 1px 3px 1px rgba(60, 64, 67, 0.15);\n",
       "      fill: #174EA6;\n",
       "    }\n",
       "\n",
       "    [theme=dark] .colab-df-convert {\n",
       "      background-color: #3B4455;\n",
       "      fill: #D2E3FC;\n",
       "    }\n",
       "\n",
       "    [theme=dark] .colab-df-convert:hover {\n",
       "      background-color: #434B5C;\n",
       "      box-shadow: 0px 1px 3px 1px rgba(0, 0, 0, 0.15);\n",
       "      filter: drop-shadow(0px 1px 2px rgba(0, 0, 0, 0.3));\n",
       "      fill: #FFFFFF;\n",
       "    }\n",
       "  </style>\n",
       "\n",
       "      <script>\n",
       "        const buttonEl =\n",
       "          document.querySelector('#df-8a9b9513-d6e5-42e9-9917-df1401d6319c button.colab-df-convert');\n",
       "        buttonEl.style.display =\n",
       "          google.colab.kernel.accessAllowed ? 'block' : 'none';\n",
       "\n",
       "        async function convertToInteractive(key) {\n",
       "          const element = document.querySelector('#df-8a9b9513-d6e5-42e9-9917-df1401d6319c');\n",
       "          const dataTable =\n",
       "            await google.colab.kernel.invokeFunction('convertToInteractive',\n",
       "                                                     [key], {});\n",
       "          if (!dataTable) return;\n",
       "\n",
       "          const docLinkHtml = 'Like what you see? Visit the ' +\n",
       "            '<a target=\"_blank\" href=https://colab.research.google.com/notebooks/data_table.ipynb>data table notebook</a>'\n",
       "            + ' to learn more about interactive tables.';\n",
       "          element.innerHTML = '';\n",
       "          dataTable['output_type'] = 'display_data';\n",
       "          await google.colab.output.renderOutput(dataTable, element);\n",
       "          const docLink = document.createElement('div');\n",
       "          docLink.innerHTML = docLinkHtml;\n",
       "          element.appendChild(docLink);\n",
       "        }\n",
       "      </script>\n",
       "    </div>\n",
       "  </div>\n",
       "  "
      ],
      "text/plain": [
       "       sepal_length  sepal_width  petal_length  petal_width\n",
       "count    150.000000   150.000000    150.000000   150.000000\n",
       "mean       5.843333     3.054000      3.758667     1.198667\n",
       "std        0.828066     0.433594      1.764420     0.763161\n",
       "min        4.300000     2.000000      1.000000     0.100000\n",
       "25%        5.100000     2.800000      1.600000     0.300000\n",
       "50%        5.800000     3.000000      4.350000     1.300000\n",
       "75%        6.400000     3.300000      5.100000     1.800000\n",
       "max        7.900000     4.400000      6.900000     2.500000"
      ]
     },
     "execution_count": 8,
     "metadata": {},
     "output_type": "execute_result"
    }
   ],
   "source": [
    "data.describe()"
   ]
  },
  {
   "cell_type": "code",
   "execution_count": null,
   "metadata": {
    "colab": {
     "base_uri": "https://localhost:8080/"
    },
    "id": "8vCWLgRTcCZr",
    "outputId": "8936b2b3-ebeb-4f5e-e558-aa6360c53fc3"
   },
   "outputs": [
    {
     "name": "stdout",
     "output_type": "stream",
     "text": [
      "<class 'pandas.core.frame.DataFrame'>\n",
      "RangeIndex: 150 entries, 0 to 149\n",
      "Data columns (total 5 columns):\n",
      " #   Column        Non-Null Count  Dtype  \n",
      "---  ------        --------------  -----  \n",
      " 0   sepal_length  150 non-null    float64\n",
      " 1   sepal_width   150 non-null    float64\n",
      " 2   petal_length  150 non-null    float64\n",
      " 3   petal_width   150 non-null    float64\n",
      " 4   class         150 non-null    object \n",
      "dtypes: float64(4), object(1)\n",
      "memory usage: 6.0+ KB\n"
     ]
    }
   ],
   "source": [
    "data.info()"
   ]
  },
  {
   "cell_type": "markdown",
   "metadata": {
    "id": "xUJz1TxeeG1v"
   },
   "source": [
    "#### We can see that there isn't empty data"
   ]
  },
  {
   "cell_type": "code",
   "execution_count": null,
   "metadata": {
    "colab": {
     "base_uri": "https://localhost:8080/"
    },
    "id": "K8GhZ5ADcDbR",
    "outputId": "bf250792-a147-4ad1-9072-7e890b75899c"
   },
   "outputs": [
    {
     "data": {
      "text/plain": [
       "sepal_length    0\n",
       "sepal_width     0\n",
       "petal_length    0\n",
       "petal_width     0\n",
       "class           0\n",
       "dtype: int64"
      ]
     },
     "execution_count": 10,
     "metadata": {},
     "output_type": "execute_result"
    }
   ],
   "source": [
    "data.isnull().sum()"
   ]
  },
  {
   "cell_type": "code",
   "execution_count": null,
   "metadata": {
    "colab": {
     "base_uri": "https://localhost:8080/"
    },
    "id": "2QuWiaGOcE_5",
    "outputId": "e17412f1-fc79-414a-9e68-1c3fb0cc3b7c"
   },
   "outputs": [
    {
     "data": {
      "text/plain": [
       "0      False\n",
       "1      False\n",
       "2      False\n",
       "3      False\n",
       "4      False\n",
       "       ...  \n",
       "145    False\n",
       "146    False\n",
       "147    False\n",
       "148    False\n",
       "149    False\n",
       "Length: 150, dtype: bool"
      ]
     },
     "execution_count": 11,
     "metadata": {},
     "output_type": "execute_result"
    }
   ],
   "source": [
    "data.duplicated()"
   ]
  },
  {
   "cell_type": "code",
   "execution_count": null,
   "metadata": {
    "colab": {
     "base_uri": "https://localhost:8080/"
    },
    "id": "2rkqGSLbcF-J",
    "outputId": "99ba23b2-b38f-426e-d8ea-6836edd9bb92"
   },
   "outputs": [
    {
     "data": {
      "text/plain": [
       "3"
      ]
     },
     "execution_count": 12,
     "metadata": {},
     "output_type": "execute_result"
    }
   ],
   "source": [
    "data.duplicated().sum()"
   ]
  },
  {
   "cell_type": "markdown",
   "metadata": {
    "id": "d9lkcxZYehO3"
   },
   "source": [
    "#### There are 3 duplicate data, that will be eliminated before the training"
   ]
  },
  {
   "cell_type": "code",
   "execution_count": null,
   "metadata": {
    "colab": {
     "base_uri": "https://localhost:8080/",
     "height": 143
    },
    "id": "NJCw9A4BcHRm",
    "outputId": "6b2c3b34-15a8-42ad-918a-38b5375cd87b"
   },
   "outputs": [
    {
     "data": {
      "text/html": [
       "\n",
       "  <div id=\"df-2c015dff-f304-4e88-ad56-59a7974dc0ad\">\n",
       "    <div class=\"colab-df-container\">\n",
       "      <div>\n",
       "<style scoped>\n",
       "    .dataframe tbody tr th:only-of-type {\n",
       "        vertical-align: middle;\n",
       "    }\n",
       "\n",
       "    .dataframe tbody tr th {\n",
       "        vertical-align: top;\n",
       "    }\n",
       "\n",
       "    .dataframe thead th {\n",
       "        text-align: right;\n",
       "    }\n",
       "</style>\n",
       "<table border=\"1\" class=\"dataframe\">\n",
       "  <thead>\n",
       "    <tr style=\"text-align: right;\">\n",
       "      <th></th>\n",
       "      <th>sepal_length</th>\n",
       "      <th>sepal_width</th>\n",
       "      <th>petal_length</th>\n",
       "      <th>petal_width</th>\n",
       "      <th>class</th>\n",
       "    </tr>\n",
       "  </thead>\n",
       "  <tbody>\n",
       "    <tr>\n",
       "      <th>34</th>\n",
       "      <td>4.9</td>\n",
       "      <td>3.1</td>\n",
       "      <td>1.5</td>\n",
       "      <td>0.1</td>\n",
       "      <td>Iris-setosa</td>\n",
       "    </tr>\n",
       "    <tr>\n",
       "      <th>37</th>\n",
       "      <td>4.9</td>\n",
       "      <td>3.1</td>\n",
       "      <td>1.5</td>\n",
       "      <td>0.1</td>\n",
       "      <td>Iris-setosa</td>\n",
       "    </tr>\n",
       "    <tr>\n",
       "      <th>142</th>\n",
       "      <td>5.8</td>\n",
       "      <td>2.7</td>\n",
       "      <td>5.1</td>\n",
       "      <td>1.9</td>\n",
       "      <td>Iris-virginica</td>\n",
       "    </tr>\n",
       "  </tbody>\n",
       "</table>\n",
       "</div>\n",
       "      <button class=\"colab-df-convert\" onclick=\"convertToInteractive('df-2c015dff-f304-4e88-ad56-59a7974dc0ad')\"\n",
       "              title=\"Convert this dataframe to an interactive table.\"\n",
       "              style=\"display:none;\">\n",
       "        \n",
       "  <svg xmlns=\"http://www.w3.org/2000/svg\" height=\"24px\"viewBox=\"0 0 24 24\"\n",
       "       width=\"24px\">\n",
       "    <path d=\"M0 0h24v24H0V0z\" fill=\"none\"/>\n",
       "    <path d=\"M18.56 5.44l.94 2.06.94-2.06 2.06-.94-2.06-.94-.94-2.06-.94 2.06-2.06.94zm-11 1L8.5 8.5l.94-2.06 2.06-.94-2.06-.94L8.5 2.5l-.94 2.06-2.06.94zm10 10l.94 2.06.94-2.06 2.06-.94-2.06-.94-.94-2.06-.94 2.06-2.06.94z\"/><path d=\"M17.41 7.96l-1.37-1.37c-.4-.4-.92-.59-1.43-.59-.52 0-1.04.2-1.43.59L10.3 9.45l-7.72 7.72c-.78.78-.78 2.05 0 2.83L4 21.41c.39.39.9.59 1.41.59.51 0 1.02-.2 1.41-.59l7.78-7.78 2.81-2.81c.8-.78.8-2.07 0-2.86zM5.41 20L4 18.59l7.72-7.72 1.47 1.35L5.41 20z\"/>\n",
       "  </svg>\n",
       "      </button>\n",
       "      \n",
       "  <style>\n",
       "    .colab-df-container {\n",
       "      display:flex;\n",
       "      flex-wrap:wrap;\n",
       "      gap: 12px;\n",
       "    }\n",
       "\n",
       "    .colab-df-convert {\n",
       "      background-color: #E8F0FE;\n",
       "      border: none;\n",
       "      border-radius: 50%;\n",
       "      cursor: pointer;\n",
       "      display: none;\n",
       "      fill: #1967D2;\n",
       "      height: 32px;\n",
       "      padding: 0 0 0 0;\n",
       "      width: 32px;\n",
       "    }\n",
       "\n",
       "    .colab-df-convert:hover {\n",
       "      background-color: #E2EBFA;\n",
       "      box-shadow: 0px 1px 2px rgba(60, 64, 67, 0.3), 0px 1px 3px 1px rgba(60, 64, 67, 0.15);\n",
       "      fill: #174EA6;\n",
       "    }\n",
       "\n",
       "    [theme=dark] .colab-df-convert {\n",
       "      background-color: #3B4455;\n",
       "      fill: #D2E3FC;\n",
       "    }\n",
       "\n",
       "    [theme=dark] .colab-df-convert:hover {\n",
       "      background-color: #434B5C;\n",
       "      box-shadow: 0px 1px 3px 1px rgba(0, 0, 0, 0.15);\n",
       "      filter: drop-shadow(0px 1px 2px rgba(0, 0, 0, 0.3));\n",
       "      fill: #FFFFFF;\n",
       "    }\n",
       "  </style>\n",
       "\n",
       "      <script>\n",
       "        const buttonEl =\n",
       "          document.querySelector('#df-2c015dff-f304-4e88-ad56-59a7974dc0ad button.colab-df-convert');\n",
       "        buttonEl.style.display =\n",
       "          google.colab.kernel.accessAllowed ? 'block' : 'none';\n",
       "\n",
       "        async function convertToInteractive(key) {\n",
       "          const element = document.querySelector('#df-2c015dff-f304-4e88-ad56-59a7974dc0ad');\n",
       "          const dataTable =\n",
       "            await google.colab.kernel.invokeFunction('convertToInteractive',\n",
       "                                                     [key], {});\n",
       "          if (!dataTable) return;\n",
       "\n",
       "          const docLinkHtml = 'Like what you see? Visit the ' +\n",
       "            '<a target=\"_blank\" href=https://colab.research.google.com/notebooks/data_table.ipynb>data table notebook</a>'\n",
       "            + ' to learn more about interactive tables.';\n",
       "          element.innerHTML = '';\n",
       "          dataTable['output_type'] = 'display_data';\n",
       "          await google.colab.output.renderOutput(dataTable, element);\n",
       "          const docLink = document.createElement('div');\n",
       "          docLink.innerHTML = docLinkHtml;\n",
       "          element.appendChild(docLink);\n",
       "        }\n",
       "      </script>\n",
       "    </div>\n",
       "  </div>\n",
       "  "
      ],
      "text/plain": [
       "     sepal_length  sepal_width  petal_length  petal_width           class\n",
       "34            4.9          3.1           1.5          0.1     Iris-setosa\n",
       "37            4.9          3.1           1.5          0.1     Iris-setosa\n",
       "142           5.8          2.7           5.1          1.9  Iris-virginica"
      ]
     },
     "execution_count": 13,
     "metadata": {},
     "output_type": "execute_result"
    }
   ],
   "source": [
    "duplicate = data[data.duplicated()]\n",
    "duplicate"
   ]
  },
  {
   "cell_type": "code",
   "execution_count": null,
   "metadata": {
    "colab": {
     "base_uri": "https://localhost:8080/",
     "height": 424
    },
    "id": "_FzA7sQjcIt8",
    "outputId": "21b04c68-7890-4285-b63c-2ebe9b8106fd"
   },
   "outputs": [
    {
     "data": {
      "text/html": [
       "\n",
       "  <div id=\"df-e6e34602-ada3-4be5-a018-416a48ed92b7\">\n",
       "    <div class=\"colab-df-container\">\n",
       "      <div>\n",
       "<style scoped>\n",
       "    .dataframe tbody tr th:only-of-type {\n",
       "        vertical-align: middle;\n",
       "    }\n",
       "\n",
       "    .dataframe tbody tr th {\n",
       "        vertical-align: top;\n",
       "    }\n",
       "\n",
       "    .dataframe thead th {\n",
       "        text-align: right;\n",
       "    }\n",
       "</style>\n",
       "<table border=\"1\" class=\"dataframe\">\n",
       "  <thead>\n",
       "    <tr style=\"text-align: right;\">\n",
       "      <th></th>\n",
       "      <th>sepal_length</th>\n",
       "      <th>sepal_width</th>\n",
       "      <th>petal_length</th>\n",
       "      <th>petal_width</th>\n",
       "      <th>class</th>\n",
       "    </tr>\n",
       "  </thead>\n",
       "  <tbody>\n",
       "    <tr>\n",
       "      <th>0</th>\n",
       "      <td>5.1</td>\n",
       "      <td>3.5</td>\n",
       "      <td>1.4</td>\n",
       "      <td>0.2</td>\n",
       "      <td>Iris-setosa</td>\n",
       "    </tr>\n",
       "    <tr>\n",
       "      <th>1</th>\n",
       "      <td>4.9</td>\n",
       "      <td>3.0</td>\n",
       "      <td>1.4</td>\n",
       "      <td>0.2</td>\n",
       "      <td>Iris-setosa</td>\n",
       "    </tr>\n",
       "    <tr>\n",
       "      <th>2</th>\n",
       "      <td>4.7</td>\n",
       "      <td>3.2</td>\n",
       "      <td>1.3</td>\n",
       "      <td>0.2</td>\n",
       "      <td>Iris-setosa</td>\n",
       "    </tr>\n",
       "    <tr>\n",
       "      <th>3</th>\n",
       "      <td>4.6</td>\n",
       "      <td>3.1</td>\n",
       "      <td>1.5</td>\n",
       "      <td>0.2</td>\n",
       "      <td>Iris-setosa</td>\n",
       "    </tr>\n",
       "    <tr>\n",
       "      <th>4</th>\n",
       "      <td>5.0</td>\n",
       "      <td>3.6</td>\n",
       "      <td>1.4</td>\n",
       "      <td>0.2</td>\n",
       "      <td>Iris-setosa</td>\n",
       "    </tr>\n",
       "    <tr>\n",
       "      <th>...</th>\n",
       "      <td>...</td>\n",
       "      <td>...</td>\n",
       "      <td>...</td>\n",
       "      <td>...</td>\n",
       "      <td>...</td>\n",
       "    </tr>\n",
       "    <tr>\n",
       "      <th>145</th>\n",
       "      <td>6.7</td>\n",
       "      <td>3.0</td>\n",
       "      <td>5.2</td>\n",
       "      <td>2.3</td>\n",
       "      <td>Iris-virginica</td>\n",
       "    </tr>\n",
       "    <tr>\n",
       "      <th>146</th>\n",
       "      <td>6.3</td>\n",
       "      <td>2.5</td>\n",
       "      <td>5.0</td>\n",
       "      <td>1.9</td>\n",
       "      <td>Iris-virginica</td>\n",
       "    </tr>\n",
       "    <tr>\n",
       "      <th>147</th>\n",
       "      <td>6.5</td>\n",
       "      <td>3.0</td>\n",
       "      <td>5.2</td>\n",
       "      <td>2.0</td>\n",
       "      <td>Iris-virginica</td>\n",
       "    </tr>\n",
       "    <tr>\n",
       "      <th>148</th>\n",
       "      <td>6.2</td>\n",
       "      <td>3.4</td>\n",
       "      <td>5.4</td>\n",
       "      <td>2.3</td>\n",
       "      <td>Iris-virginica</td>\n",
       "    </tr>\n",
       "    <tr>\n",
       "      <th>149</th>\n",
       "      <td>5.9</td>\n",
       "      <td>3.0</td>\n",
       "      <td>5.1</td>\n",
       "      <td>1.8</td>\n",
       "      <td>Iris-virginica</td>\n",
       "    </tr>\n",
       "  </tbody>\n",
       "</table>\n",
       "<p>147 rows × 5 columns</p>\n",
       "</div>\n",
       "      <button class=\"colab-df-convert\" onclick=\"convertToInteractive('df-e6e34602-ada3-4be5-a018-416a48ed92b7')\"\n",
       "              title=\"Convert this dataframe to an interactive table.\"\n",
       "              style=\"display:none;\">\n",
       "        \n",
       "  <svg xmlns=\"http://www.w3.org/2000/svg\" height=\"24px\"viewBox=\"0 0 24 24\"\n",
       "       width=\"24px\">\n",
       "    <path d=\"M0 0h24v24H0V0z\" fill=\"none\"/>\n",
       "    <path d=\"M18.56 5.44l.94 2.06.94-2.06 2.06-.94-2.06-.94-.94-2.06-.94 2.06-2.06.94zm-11 1L8.5 8.5l.94-2.06 2.06-.94-2.06-.94L8.5 2.5l-.94 2.06-2.06.94zm10 10l.94 2.06.94-2.06 2.06-.94-2.06-.94-.94-2.06-.94 2.06-2.06.94z\"/><path d=\"M17.41 7.96l-1.37-1.37c-.4-.4-.92-.59-1.43-.59-.52 0-1.04.2-1.43.59L10.3 9.45l-7.72 7.72c-.78.78-.78 2.05 0 2.83L4 21.41c.39.39.9.59 1.41.59.51 0 1.02-.2 1.41-.59l7.78-7.78 2.81-2.81c.8-.78.8-2.07 0-2.86zM5.41 20L4 18.59l7.72-7.72 1.47 1.35L5.41 20z\"/>\n",
       "  </svg>\n",
       "      </button>\n",
       "      \n",
       "  <style>\n",
       "    .colab-df-container {\n",
       "      display:flex;\n",
       "      flex-wrap:wrap;\n",
       "      gap: 12px;\n",
       "    }\n",
       "\n",
       "    .colab-df-convert {\n",
       "      background-color: #E8F0FE;\n",
       "      border: none;\n",
       "      border-radius: 50%;\n",
       "      cursor: pointer;\n",
       "      display: none;\n",
       "      fill: #1967D2;\n",
       "      height: 32px;\n",
       "      padding: 0 0 0 0;\n",
       "      width: 32px;\n",
       "    }\n",
       "\n",
       "    .colab-df-convert:hover {\n",
       "      background-color: #E2EBFA;\n",
       "      box-shadow: 0px 1px 2px rgba(60, 64, 67, 0.3), 0px 1px 3px 1px rgba(60, 64, 67, 0.15);\n",
       "      fill: #174EA6;\n",
       "    }\n",
       "\n",
       "    [theme=dark] .colab-df-convert {\n",
       "      background-color: #3B4455;\n",
       "      fill: #D2E3FC;\n",
       "    }\n",
       "\n",
       "    [theme=dark] .colab-df-convert:hover {\n",
       "      background-color: #434B5C;\n",
       "      box-shadow: 0px 1px 3px 1px rgba(0, 0, 0, 0.15);\n",
       "      filter: drop-shadow(0px 1px 2px rgba(0, 0, 0, 0.3));\n",
       "      fill: #FFFFFF;\n",
       "    }\n",
       "  </style>\n",
       "\n",
       "      <script>\n",
       "        const buttonEl =\n",
       "          document.querySelector('#df-e6e34602-ada3-4be5-a018-416a48ed92b7 button.colab-df-convert');\n",
       "        buttonEl.style.display =\n",
       "          google.colab.kernel.accessAllowed ? 'block' : 'none';\n",
       "\n",
       "        async function convertToInteractive(key) {\n",
       "          const element = document.querySelector('#df-e6e34602-ada3-4be5-a018-416a48ed92b7');\n",
       "          const dataTable =\n",
       "            await google.colab.kernel.invokeFunction('convertToInteractive',\n",
       "                                                     [key], {});\n",
       "          if (!dataTable) return;\n",
       "\n",
       "          const docLinkHtml = 'Like what you see? Visit the ' +\n",
       "            '<a target=\"_blank\" href=https://colab.research.google.com/notebooks/data_table.ipynb>data table notebook</a>'\n",
       "            + ' to learn more about interactive tables.';\n",
       "          element.innerHTML = '';\n",
       "          dataTable['output_type'] = 'display_data';\n",
       "          await google.colab.output.renderOutput(dataTable, element);\n",
       "          const docLink = document.createElement('div');\n",
       "          docLink.innerHTML = docLinkHtml;\n",
       "          element.appendChild(docLink);\n",
       "        }\n",
       "      </script>\n",
       "    </div>\n",
       "  </div>\n",
       "  "
      ],
      "text/plain": [
       "     sepal_length  sepal_width  petal_length  petal_width           class\n",
       "0             5.1          3.5           1.4          0.2     Iris-setosa\n",
       "1             4.9          3.0           1.4          0.2     Iris-setosa\n",
       "2             4.7          3.2           1.3          0.2     Iris-setosa\n",
       "3             4.6          3.1           1.5          0.2     Iris-setosa\n",
       "4             5.0          3.6           1.4          0.2     Iris-setosa\n",
       "..            ...          ...           ...          ...             ...\n",
       "145           6.7          3.0           5.2          2.3  Iris-virginica\n",
       "146           6.3          2.5           5.0          1.9  Iris-virginica\n",
       "147           6.5          3.0           5.2          2.0  Iris-virginica\n",
       "148           6.2          3.4           5.4          2.3  Iris-virginica\n",
       "149           5.9          3.0           5.1          1.8  Iris-virginica\n",
       "\n",
       "[147 rows x 5 columns]"
      ]
     },
     "execution_count": 14,
     "metadata": {},
     "output_type": "execute_result"
    }
   ],
   "source": [
    "data = data.drop_duplicates()\n",
    "data"
   ]
  },
  {
   "cell_type": "markdown",
   "metadata": {
    "id": "vvAJNjHuexPn"
   },
   "source": [
    "#### Now We will see the data distribution separete by labels"
   ]
  },
  {
   "cell_type": "code",
   "execution_count": null,
   "metadata": {
    "colab": {
     "base_uri": "https://localhost:8080/",
     "height": 744
    },
    "id": "iSeZd8DccJ3F",
    "outputId": "30adb189-a573-489c-bd98-55d7fa9c22bc"
   },
   "outputs": [
    {
     "data": {
      "text/plain": [
       "<seaborn.axisgrid.PairGrid at 0x7eff2bc413d0>"
      ]
     },
     "execution_count": 15,
     "metadata": {},
     "output_type": "execute_result"
    },
    {
     "data": {
      "image/png": "[encoded data removed]",
      "text/plain": [
       "<Figure size 823.25x720 with 20 Axes>"
      ]
     },
     "metadata": {
      "needs_background": "light"
     },
     "output_type": "display_data"
    }
   ],
   "source": [
    "sns.pairplot(data, kind=\"scatter\", hue=\"class\", markers=[\"o\", \"s\", \"D\"], palette=\"Set2\")"
   ]
  },
  {
   "cell_type": "markdown",
   "metadata": {
    "id": "M9nXM74AoXCr"
   },
   "source": [
    "##### It can be clearly seen that the data labeled iris-versicolor and iris-virginica overlap at certain points, unlike the data labeled iris-setosa which differ much more. This tells us that when making predictions, the trained model could fail with the iris-versicolor and iris-virginica data and confuse them with each other."
   ]
  },
  {
   "cell_type": "code",
   "execution_count": null,
   "metadata": {
    "colab": {
     "base_uri": "https://localhost:8080/",
     "height": 279
    },
    "id": "QEccSRbScK1c",
    "outputId": "80886d59-bdb3-4162-c064-b12659be9168"
   },
   "outputs": [
    {
     "data": {
      "image/png": "[encoded data removed]",
      "text/plain": [
       "<Figure size 432x288 with 1 Axes>"
      ]
     },
     "metadata": {
      "needs_background": "light"
     },
     "output_type": "display_data"
    }
   ],
   "source": [
    "sns.countplot(data=data, x=\"class\");"
   ]
  },
  {
   "cell_type": "markdown",
   "metadata": {
    "id": "mdUim4uzfBJm"
   },
   "source": [
    "#### We can see the all the label are balanced so the accuracy metric will be so important."
   ]
  },
  {
   "cell_type": "code",
   "execution_count": null,
   "metadata": {
    "colab": {
     "base_uri": "https://localhost:8080/"
    },
    "id": "ZkQ2YY4ocMLK",
    "outputId": "1c81b402-9e71-4cd6-b048-10cd1fd5dd85"
   },
   "outputs": [
    {
     "name": "stdout",
     "output_type": "stream",
     "text": [
      "{'Iris-setosa': 0, 'Iris-versicolor': 1, 'Iris-virginica': 2}\n"
     ]
    }
   ],
   "source": [
    "#Encoding the labels\n",
    "le = LabelEncoder()\n",
    "data[\"class\"] = le.fit_transform(data[\"class\"])\n",
    "data_labels = le.classes_\n",
    "le_dict = dict(zip(le.classes_, le.transform(le.classes_)))\n",
    "print(le_dict)"
   ]
  },
  {
   "cell_type": "code",
   "execution_count": null,
   "metadata": {
    "colab": {
     "base_uri": "https://localhost:8080/",
     "height": 424
    },
    "id": "Zm3W2wACmles",
    "outputId": "34a0da69-036a-4bba-dbd4-76b7654f830d"
   },
   "outputs": [
    {
     "data": {
      "text/html": [
       "\n",
       "  <div id=\"df-96b67e91-5104-4a35-a154-e4a7cb0a848e\">\n",
       "    <div class=\"colab-df-container\">\n",
       "      <div>\n",
       "<style scoped>\n",
       "    .dataframe tbody tr th:only-of-type {\n",
       "        vertical-align: middle;\n",
       "    }\n",
       "\n",
       "    .dataframe tbody tr th {\n",
       "        vertical-align: top;\n",
       "    }\n",
       "\n",
       "    .dataframe thead th {\n",
       "        text-align: right;\n",
       "    }\n",
       "</style>\n",
       "<table border=\"1\" class=\"dataframe\">\n",
       "  <thead>\n",
       "    <tr style=\"text-align: right;\">\n",
       "      <th></th>\n",
       "      <th>sepal_length</th>\n",
       "      <th>sepal_width</th>\n",
       "      <th>petal_length</th>\n",
       "      <th>petal_width</th>\n",
       "      <th>class</th>\n",
       "    </tr>\n",
       "  </thead>\n",
       "  <tbody>\n",
       "    <tr>\n",
       "      <th>0</th>\n",
       "      <td>5.1</td>\n",
       "      <td>3.5</td>\n",
       "      <td>1.4</td>\n",
       "      <td>0.2</td>\n",
       "      <td>0</td>\n",
       "    </tr>\n",
       "    <tr>\n",
       "      <th>1</th>\n",
       "      <td>4.9</td>\n",
       "      <td>3.0</td>\n",
       "      <td>1.4</td>\n",
       "      <td>0.2</td>\n",
       "      <td>0</td>\n",
       "    </tr>\n",
       "    <tr>\n",
       "      <th>2</th>\n",
       "      <td>4.7</td>\n",
       "      <td>3.2</td>\n",
       "      <td>1.3</td>\n",
       "      <td>0.2</td>\n",
       "      <td>0</td>\n",
       "    </tr>\n",
       "    <tr>\n",
       "      <th>3</th>\n",
       "      <td>4.6</td>\n",
       "      <td>3.1</td>\n",
       "      <td>1.5</td>\n",
       "      <td>0.2</td>\n",
       "      <td>0</td>\n",
       "    </tr>\n",
       "    <tr>\n",
       "      <th>4</th>\n",
       "      <td>5.0</td>\n",
       "      <td>3.6</td>\n",
       "      <td>1.4</td>\n",
       "      <td>0.2</td>\n",
       "      <td>0</td>\n",
       "    </tr>\n",
       "    <tr>\n",
       "      <th>...</th>\n",
       "      <td>...</td>\n",
       "      <td>...</td>\n",
       "      <td>...</td>\n",
       "      <td>...</td>\n",
       "      <td>...</td>\n",
       "    </tr>\n",
       "    <tr>\n",
       "      <th>145</th>\n",
       "      <td>6.7</td>\n",
       "      <td>3.0</td>\n",
       "      <td>5.2</td>\n",
       "      <td>2.3</td>\n",
       "      <td>2</td>\n",
       "    </tr>\n",
       "    <tr>\n",
       "      <th>146</th>\n",
       "      <td>6.3</td>\n",
       "      <td>2.5</td>\n",
       "      <td>5.0</td>\n",
       "      <td>1.9</td>\n",
       "      <td>2</td>\n",
       "    </tr>\n",
       "    <tr>\n",
       "      <th>147</th>\n",
       "      <td>6.5</td>\n",
       "      <td>3.0</td>\n",
       "      <td>5.2</td>\n",
       "      <td>2.0</td>\n",
       "      <td>2</td>\n",
       "    </tr>\n",
       "    <tr>\n",
       "      <th>148</th>\n",
       "      <td>6.2</td>\n",
       "      <td>3.4</td>\n",
       "      <td>5.4</td>\n",
       "      <td>2.3</td>\n",
       "      <td>2</td>\n",
       "    </tr>\n",
       "    <tr>\n",
       "      <th>149</th>\n",
       "      <td>5.9</td>\n",
       "      <td>3.0</td>\n",
       "      <td>5.1</td>\n",
       "      <td>1.8</td>\n",
       "      <td>2</td>\n",
       "    </tr>\n",
       "  </tbody>\n",
       "</table>\n",
       "<p>147 rows × 5 columns</p>\n",
       "</div>\n",
       "      <button class=\"colab-df-convert\" onclick=\"convertToInteractive('df-96b67e91-5104-4a35-a154-e4a7cb0a848e')\"\n",
       "              title=\"Convert this dataframe to an interactive table.\"\n",
       "              style=\"display:none;\">\n",
       "        \n",
       "  <svg xmlns=\"http://www.w3.org/2000/svg\" height=\"24px\"viewBox=\"0 0 24 24\"\n",
       "       width=\"24px\">\n",
       "    <path d=\"M0 0h24v24H0V0z\" fill=\"none\"/>\n",
       "    <path d=\"M18.56 5.44l.94 2.06.94-2.06 2.06-.94-2.06-.94-.94-2.06-.94 2.06-2.06.94zm-11 1L8.5 8.5l.94-2.06 2.06-.94-2.06-.94L8.5 2.5l-.94 2.06-2.06.94zm10 10l.94 2.06.94-2.06 2.06-.94-2.06-.94-.94-2.06-.94 2.06-2.06.94z\"/><path d=\"M17.41 7.96l-1.37-1.37c-.4-.4-.92-.59-1.43-.59-.52 0-1.04.2-1.43.59L10.3 9.45l-7.72 7.72c-.78.78-.78 2.05 0 2.83L4 21.41c.39.39.9.59 1.41.59.51 0 1.02-.2 1.41-.59l7.78-7.78 2.81-2.81c.8-.78.8-2.07 0-2.86zM5.41 20L4 18.59l7.72-7.72 1.47 1.35L5.41 20z\"/>\n",
       "  </svg>\n",
       "      </button>\n",
       "      \n",
       "  <style>\n",
       "    .colab-df-container {\n",
       "      display:flex;\n",
       "      flex-wrap:wrap;\n",
       "      gap: 12px;\n",
       "    }\n",
       "\n",
       "    .colab-df-convert {\n",
       "      background-color: #E8F0FE;\n",
       "      border: none;\n",
       "      border-radius: 50%;\n",
       "      cursor: pointer;\n",
       "      display: none;\n",
       "      fill: #1967D2;\n",
       "      height: 32px;\n",
       "      padding: 0 0 0 0;\n",
       "      width: 32px;\n",
       "    }\n",
       "\n",
       "    .colab-df-convert:hover {\n",
       "      background-color: #E2EBFA;\n",
       "      box-shadow: 0px 1px 2px rgba(60, 64, 67, 0.3), 0px 1px 3px 1px rgba(60, 64, 67, 0.15);\n",
       "      fill: #174EA6;\n",
       "    }\n",
       "\n",
       "    [theme=dark] .colab-df-convert {\n",
       "      background-color: #3B4455;\n",
       "      fill: #D2E3FC;\n",
       "    }\n",
       "\n",
       "    [theme=dark] .colab-df-convert:hover {\n",
       "      background-color: #434B5C;\n",
       "      box-shadow: 0px 1px 3px 1px rgba(0, 0, 0, 0.15);\n",
       "      filter: drop-shadow(0px 1px 2px rgba(0, 0, 0, 0.3));\n",
       "      fill: #FFFFFF;\n",
       "    }\n",
       "  </style>\n",
       "\n",
       "      <script>\n",
       "        const buttonEl =\n",
       "          document.querySelector('#df-96b67e91-5104-4a35-a154-e4a7cb0a848e button.colab-df-convert');\n",
       "        buttonEl.style.display =\n",
       "          google.colab.kernel.accessAllowed ? 'block' : 'none';\n",
       "\n",
       "        async function convertToInteractive(key) {\n",
       "          const element = document.querySelector('#df-96b67e91-5104-4a35-a154-e4a7cb0a848e');\n",
       "          const dataTable =\n",
       "            await google.colab.kernel.invokeFunction('convertToInteractive',\n",
       "                                                     [key], {});\n",
       "          if (!dataTable) return;\n",
       "\n",
       "          const docLinkHtml = 'Like what you see? Visit the ' +\n",
       "            '<a target=\"_blank\" href=https://colab.research.google.com/notebooks/data_table.ipynb>data table notebook</a>'\n",
       "            + ' to learn more about interactive tables.';\n",
       "          element.innerHTML = '';\n",
       "          dataTable['output_type'] = 'display_data';\n",
       "          await google.colab.output.renderOutput(dataTable, element);\n",
       "          const docLink = document.createElement('div');\n",
       "          docLink.innerHTML = docLinkHtml;\n",
       "          element.appendChild(docLink);\n",
       "        }\n",
       "      </script>\n",
       "    </div>\n",
       "  </div>\n",
       "  "
      ],
      "text/plain": [
       "     sepal_length  sepal_width  petal_length  petal_width  class\n",
       "0             5.1          3.5           1.4          0.2      0\n",
       "1             4.9          3.0           1.4          0.2      0\n",
       "2             4.7          3.2           1.3          0.2      0\n",
       "3             4.6          3.1           1.5          0.2      0\n",
       "4             5.0          3.6           1.4          0.2      0\n",
       "..            ...          ...           ...          ...    ...\n",
       "145           6.7          3.0           5.2          2.3      2\n",
       "146           6.3          2.5           5.0          1.9      2\n",
       "147           6.5          3.0           5.2          2.0      2\n",
       "148           6.2          3.4           5.4          2.3      2\n",
       "149           5.9          3.0           5.1          1.8      2\n",
       "\n",
       "[147 rows x 5 columns]"
      ]
     },
     "execution_count": 18,
     "metadata": {},
     "output_type": "execute_result"
    }
   ],
   "source": [
    "data"
   ]
  },
  {
   "cell_type": "markdown",
   "metadata": {
    "id": "73XhO05ofXBf"
   },
   "source": [
    "#### Now we will separate in train and test data."
   ]
  },
  {
   "cell_type": "code",
   "execution_count": null,
   "metadata": {
    "colab": {
     "base_uri": "https://localhost:8080/"
    },
    "id": "3L0Vz-u1c4Lw",
    "outputId": "0163c278-f28b-4f54-80b5-15733a728dcc"
   },
   "outputs": [
    {
     "name": "stdout",
     "output_type": "stream",
     "text": [
      "(117, 4)\n",
      "(117,)\n",
      "(30, 4)\n",
      "(30,)\n"
     ]
    }
   ],
   "source": [
    "X = data.drop('class', axis = 1)\n",
    "y = data['class']\n",
    "X_train, X_test, y_train, y_test = train_test_split(X, y, test_size = 0.2, random_state = 42)\n",
    "print(X_train.shape)\n",
    "print(y_train.shape)\n",
    "print(X_test.shape)\n",
    "print(y_test.shape)"
   ]
  },
  {
   "cell_type": "markdown",
   "metadata": {
    "id": "Xh2D5l7Wi00l"
   },
   "source": [
    "## **Training the SVC using RandomizedSearchCV**"
   ]
  },
  {
   "cell_type": "code",
   "execution_count": null,
   "metadata": {
    "id": "AOXQl67ucNad"
   },
   "outputs": [],
   "source": [
    "C = [0.1,0.8,0.9,1,1.1,1.2,1.3,1.4]\n",
    "kernel = ['linear', 'rbf']\n",
    "gamma = [0.1,0.8,0.9,1,1.1,1.2,1.3,1.4]"
   ]
  },
  {
   "cell_type": "code",
   "execution_count": null,
   "metadata": {
    "colab": {
     "base_uri": "https://localhost:8080/"
    },
    "id": "eNW7DtmrcOzF",
    "outputId": "643cfd69-7680-45fa-c299-f792dfe4b579"
   },
   "outputs": [
    {
     "name": "stdout",
     "output_type": "stream",
     "text": [
      "{'C': [0.1, 0.8, 0.9, 1, 1.1, 1.2, 1.3, 1.4], 'kernel': ['linear', 'rbf'], 'gamma': [0.1, 0.8, 0.9, 1, 1.1, 1.2, 1.3, 1.4]}\n"
     ]
    }
   ],
   "source": [
    "# Create the param grid\n",
    "param_grid = {'C': C,\n",
    "               'kernel': kernel,\n",
    "               'gamma': gamma,\n",
    "             }\n",
    "print(param_grid)"
   ]
  },
  {
   "cell_type": "code",
   "execution_count": null,
   "metadata": {
    "id": "uV15Ip9acQPt"
   },
   "outputs": [],
   "source": [
    "SVC_Model = SVC()"
   ]
  },
  {
   "cell_type": "markdown",
   "metadata": {
    "id": "W7aW6kTqdvCe"
   },
   "source": [
    "## Don't forget that the **sklearn.svm.SVC** function has a parameter called **decision_function_shape**, this parameter can receive as a value {‘ovo’, ‘ovr’},\n",
    "\n",
    "* ##   'ovo': to return a one-vs-one (‘ovo’) decision function \n",
    "* ##  'ovr': to return a one-vs-rest (‘ovr’) decision function\n",
    "\n",
    "## But if you dont specify this parameter, the default value is ’ovr’\n",
    "\n"
   ]
  },
  {
   "cell_type": "markdown",
   "metadata": {
    "id": "vqEDdC67fFxz"
   },
   "source": [
    "### **Therefore all the trainings that will be done in this notebook will have the format one-vs-all or one-vs-rest**"
   ]
  },
  {
   "cell_type": "code",
   "execution_count": null,
   "metadata": {
    "id": "R8fQbg9HcRd3"
   },
   "outputs": [],
   "source": [
    "rf_RandomGrid = RandomizedSearchCV(estimator = SVC_Model, param_distributions = param_grid, cv = 10, verbose=2, n_jobs = 4)"
   ]
  },
  {
   "cell_type": "code",
   "execution_count": null,
   "metadata": {
    "colab": {
     "base_uri": "https://localhost:8080/"
    },
    "id": "dnfJGojscZZm",
    "outputId": "5ba0922e-fa24-4f76-efa6-5335f405a516"
   },
   "outputs": [
    {
     "name": "stdout",
     "output_type": "stream",
     "text": [
      "Fitting 10 folds for each of 10 candidates, totalling 100 fits\n"
     ]
    },
    {
     "data": {
      "text/plain": [
       "RandomizedSearchCV(cv=10, estimator=SVC(), n_jobs=4,\n",
       "                   param_distributions={'C': [0.1, 0.8, 0.9, 1, 1.1, 1.2, 1.3,\n",
       "                                              1.4],\n",
       "                                        'gamma': [0.1, 0.8, 0.9, 1, 1.1, 1.2,\n",
       "                                                  1.3, 1.4],\n",
       "                                        'kernel': ['linear', 'rbf']},\n",
       "                   verbose=2)"
      ]
     },
     "execution_count": 24,
     "metadata": {},
     "output_type": "execute_result"
    }
   ],
   "source": [
    "rf_RandomGrid.fit(X_train, y_train)"
   ]
  },
  {
   "cell_type": "code",
   "execution_count": null,
   "metadata": {
    "colab": {
     "base_uri": "https://localhost:8080/"
    },
    "id": "R-1ilzyhcc8G",
    "outputId": "df132e0f-3e02-44ae-c357-5fb71677d567"
   },
   "outputs": [
    {
     "data": {
      "text/plain": [
       "{'kernel': 'linear', 'gamma': 0.1, 'C': 1.1}"
      ]
     },
     "execution_count": 25,
     "metadata": {},
     "output_type": "execute_result"
    }
   ],
   "source": [
    "#The best parameters that trained the SVC model.\n",
    "rf_RandomGrid.best_params_"
   ]
  },
  {
   "cell_type": "code",
   "execution_count": null,
   "metadata": {
    "id": "-72DDvyMdawB"
   },
   "outputs": [],
   "source": [
    "best_grid = rf_RandomGrid.best_estimator_"
   ]
  },
  {
   "cell_type": "code",
   "execution_count": null,
   "metadata": {
    "id": "Cm4OGG3iddBV"
   },
   "outputs": [],
   "source": [
    "y_predict_classical = best_grid.predict(X_test)"
   ]
  },
  {
   "cell_type": "code",
   "execution_count": null,
   "metadata": {
    "id": "JH5B_iu4deeP"
   },
   "outputs": [],
   "source": [
    "metric_report_classical =  classification_report(y_test, y_predict_classical)"
   ]
  },
  {
   "cell_type": "code",
   "execution_count": null,
   "metadata": {
    "colab": {
     "base_uri": "https://localhost:8080/"
    },
    "id": "IBNRqiZYPAgV",
    "outputId": "66650191-3eda-4930-a63b-83a17c90f997"
   },
   "outputs": [
    {
     "name": "stdout",
     "output_type": "stream",
     "text": [
      "              precision    recall  f1-score   support\n",
      "\n",
      "           0       1.00      1.00      1.00        11\n",
      "           1       1.00      0.90      0.95        10\n",
      "           2       0.90      1.00      0.95         9\n",
      "\n",
      "    accuracy                           0.97        30\n",
      "   macro avg       0.97      0.97      0.96        30\n",
      "weighted avg       0.97      0.97      0.97        30\n",
      "\n"
     ]
    }
   ],
   "source": [
    "print(metric_report_classical)"
   ]
  },
  {
   "cell_type": "code",
   "execution_count": null,
   "metadata": {
    "id": "QpOlxln4eK72"
   },
   "outputs": [],
   "source": [
    "cf_matrix = confusion_matrix(y_test, y_predict_classical)"
   ]
  },
  {
   "cell_type": "code",
   "execution_count": null,
   "metadata": {
    "id": "l6AUffNcoxlB"
   },
   "outputs": [],
   "source": [
    "cm_array_df = pd.DataFrame(cf_matrix, index=data_labels, columns=data_labels)"
   ]
  },
  {
   "cell_type": "code",
   "execution_count": null,
   "metadata": {
    "colab": {
     "base_uri": "https://localhost:8080/",
     "height": 283
    },
    "id": "FI3G5FIIdyd9",
    "outputId": "c1e80d1b-b9b1-46b4-bbc0-553f476d1067"
   },
   "outputs": [
    {
     "data": {
      "text/plain": [
       "<AxesSubplot:>"
      ]
     },
     "execution_count": 32,
     "metadata": {},
     "output_type": "execute_result"
    },
    {
     "data": {
      "image/png": "[encoded data removed]",
      "text/plain": [
       "<Figure size 432x288 with 2 Axes>"
      ]
     },
     "metadata": {
      "needs_background": "light"
     },
     "output_type": "display_data"
    }
   ],
   "source": [
    "sns.heatmap(cm_array_df, cmap='Blues', annot=True)"
   ]
  },
  {
   "cell_type": "markdown",
   "metadata": {
    "id": "WJWjL_GrJRhk"
   },
   "source": [
    "# **Quantum Part**"
   ]
  },
  {
   "cell_type": "markdown",
   "metadata": {
    "id": "wwb_LhZTqjKe"
   },
   "source": [
    "### On this part we should to remember how to the classical Supor Vector Machine Algorhitm works."
   ]
  },
  {
   "cell_type": "markdown",
   "metadata": {
    "id": "TUbKcv_CuIc3"
   },
   "source": [
    "### In a very reduced way we can say that the SVM classifier works by drawing a straight line (for the simplest case, like the image, but in general it is a hyperplane) between two classes. All data points that fall on one side of the line will be labeled as one class, and all points that fall on the other side will be labeled as the second. But since there are many straight lines separating the data, the goal is to find the best straight line. As we can see in the next image.\n",
    "\n"
   ]
  },
  {
   "cell_type": "markdown",
   "metadata": {
    "id": "fQMjmVpAwGvd"
   },
   "source": [
    "<img src=\"https://www.tutorialspoint.com/scikit_learn/images/marginal_hyperplane.jpg\"  width=\"60%\" height=\"30%\">"
   ]
  },
  {
   "cell_type": "markdown",
   "metadata": {
    "id": "F1KcAYBJ72B2"
   },
   "source": [
    "### We can white generally an hyperplane like this:\n",
    "\n",
    "### $wx - b = 0%$\n",
    "\n"
   ]
  },
  {
   "cell_type": "markdown",
   "metadata": {
    "id": "WsQjgTnMvu9-"
   },
   "source": [
    "### So we search for two hyperplanes such that there are no points (best case) between them and we maximize their distance. The area between the hyperplanes is the margin."
   ]
  },
  {
   "cell_type": "markdown",
   "metadata": {
    "id": "875bKI-m_MML"
   },
   "source": [
    "### So after using the necessary mathematics, we can arrive at the following:"
   ]
  },
  {
   "cell_type": "markdown",
   "metadata": {
    "id": "0OkJm9Jd9bBc"
   },
   "source": [
    "### We need to find $\\vec{\\alpha}$ that minize the L function:\n",
    "\n",
    "### $L = -\\sum_{i=0}^{m}\\alpha_{i} + \\frac{1}{2} \\sum_{i=0}^{m} \\sum_{j=0}^{m} \\alpha_{i} \\alpha_{j} f(\\vec{x_{i}}) f(\\vec{x_{j}}) \\vec{x_{i}} \\cdot \\vec{x_{j}}$\n",
    "\n",
    "### where $\\vec{x_i}$ refers to the features of the ith point and $f(\\vec{x_i})$ to its corresponding label.\n",
    "\n",
    "### From $\\vec{\\alpha}$ you can get the classification hyperplane."
   ]
  },
  {
   "cell_type": "markdown",
   "metadata": {
    "id": "bpJiPa2hBSES"
   },
   "source": [
    "### But there is a problem, Some problems can’t be solved using linear hyperplane, as shown in the figure below."
   ]
  },
  {
   "cell_type": "markdown",
   "metadata": {
    "id": "Lwl28LkDBSS0"
   },
   "source": [
    "<img src=\"https://miro.medium.com/v2/resize:fit:786/format:webp/1*yLQxzD1GR9Wt2-kcAMVARg.png\"  width=\"60%\" height=\"30%\">"
   ]
  },
  {
   "cell_type": "markdown",
   "metadata": {
    "id": "7Re_EwrpBSc3"
   },
   "source": [
    "### In such situation, SVM uses a kernel trick to transform the input space to a higher dimensional space."
   ]
  },
  {
   "cell_type": "markdown",
   "metadata": {
    "id": "NsTIhjtSCD6Z"
   },
   "source": [
    "\n",
    "<img src=\"https://miro.medium.com/v2/resize:fit:1100/format:webp/1*zWzeMGyCc7KvGD9X8lwlnQ.png\"  width=\"60%\" height=\"30%\">"
   ]
  },
  {
   "cell_type": "markdown",
   "metadata": {
    "id": "OCA0fGopDcj8"
   },
   "source": [
    "### This part is very important, since this is where quantum computing is used, since if we can remember, with n qbits we can represent vectors of dimension $2^n$, which is exactly what you are looking for with the kernel trick."
   ]
  },
  {
   "cell_type": "markdown",
   "metadata": {
    "id": "d0wqc8tW0XVr"
   },
   "source": [
    "### In practice, the feature space's dimensionality sometimes can be extremely large (even goes to infinity). So we do not wish to tackle these feature vectors directly. Another key idea in kernel methods is that we can implicitly analyze these feature vectors by only accessing their inner products in the feature space, which is noted as kernel functions $K(,)$:\n",
    "\n",
    "### $$ K(\\vec{x_{i}}, \\vec{x_{j}}) = \\phi(\\vec{x_{j}})^T \\phi(\\vec{x_{i}}),\n",
    "\\tag{1} $$\n",
    "\n",
    "### with $\\phi()$ being the feature map. We note that in kernel methods, we do not need to express the feature map explicitly. Instead, we only need to compute the kernel function. This approach can introduce non-linearity into our models, giving us the ability to recognize intractable patterns in the original data space. "
   ]
  },
  {
   "cell_type": "markdown",
   "metadata": {
    "id": "kdXY1Z129buF"
   },
   "source": [
    "### So How to introduce Kernel functions here?\n",
    "\n",
    "###You just have to change the function to minimize:\n",
    "\n",
    "### $L = -\\sum_{i=0}^{m}\\alpha_{i} + \\frac{1}{2} \\sum_{i=0}^{m} \\sum_{j=0}^{m} \\alpha_{i} \\alpha_{j} f(\\vec{x_{i}}) f(\\vec{x_{j}}) \\phi(\\vec{x_{i}}) \\cdot \\phi(\\vec{x_{j}})$\n",
    "### $L = -\\sum_{i=0}^{m}\\alpha_{i} + \\frac{1}{2} \\sum_{i=0}^{m} \\sum_{j=0}^{m} \\alpha_{i} \\alpha_{j} f(\\vec{x_{i}}) f(\\vec{x_{j}}) K(\\vec{x_{i}}, \\vec{x_{j}})$\n",
    "\n",
    "### Therefore, what we will do is calculate all the internal products through our mapping function, that is, the Gramm matrix."
   ]
  },
  {
   "cell_type": "markdown",
   "metadata": {
    "id": "3NSVI0YK4oA-"
   },
   "source": [
    "### So basically, we can show the idea of QSVM in the next picture "
   ]
  },
  {
   "cell_type": "markdown",
   "metadata": {
    "id": "uzQs4fW-48t3"
   },
   "source": [
    "\n",
    "![](https://drive.google.com/uc?id=1VdBGi_CWrgZ_t6V8_URmtEEFomZl2oPr)"
   ]
  },
  {
   "cell_type": "markdown",
   "metadata": {
    "id": "ieo9lk479cSq"
   },
   "source": [
    "### So before starting to encode, it is important to be clear that the SVM algorithm only makes use of the quantum part when qbits are used to encode the classical data using the feature map and the kernel, since there are also purely classic and well-known kernels, such as Linear, Gaussian, Polynomial between others."
   ]
  },
  {
   "cell_type": "markdown",
   "metadata": {
    "id": "RRbZTrfXRw7I"
   },
   "source": [
    "### The idea is to be able to compute the gram matrix so that it can be used in the classical SVC algorithm, but using a quantum parametric circuit kernel, so we can do this in 3 different ways, which as we will see some ways are more efficient than others:"
   ]
  },
  {
   "cell_type": "markdown",
   "metadata": {
    "id": "8ykMkR325dNX"
   },
   "source": [
    "\n",
    "\n",
    "## 1. Firts Way: Using the qiskit library functions\n",
    "\n"
   ]
  },
  {
   "cell_type": "markdown",
   "metadata": {
    "id": "ZKYttAec6u2K"
   },
   "source": [
    "\n",
    "\n",
    "\n",
    "> ### This is the easiest way to do it, because qiskit already has ready packages that do most of the work, as we'll see next:\n",
    "\n",
    "\n",
    "\n",
    "\n"
   ]
  },
  {
   "cell_type": "markdown",
   "metadata": {
    "id": "1tqn7GQvIhOQ"
   },
   "source": [
    "\n",
    "\n",
    "> ### To get started, we created a completely custom parameterized circuit feature map.\n",
    "\n"
   ]
  },
  {
   "cell_type": "code",
   "execution_count": null,
   "metadata": {
    "id": "qlwQOR6iI-IY"
   },
   "outputs": [],
   "source": [
    "def feature_map(repeats = 1):\n",
    "  \"\"\"\n",
    "  Feature function that encoding the classical data to quantum states\n",
    "  This function is to use with the qiskit functions\n",
    "  Args:\n",
    "      repeats (int): Number of repetitions of the quantum circuit\n",
    "  Returns:\n",
    "      The qiskit circuit\n",
    "  \"\"\"\n",
    "  qubits = 4 #Number of features (columns) of the training data\n",
    "\n",
    "  x = ParameterVector('x', length=qubits)\n",
    "  var_custom = QuantumCircuit(qubits)\n",
    "\n",
    "  for _ in range(repeats):\n",
    "      for i in range(qubits):\n",
    "          var_custom.rx(x[i], i)\n",
    "      for i in range(qubits):\n",
    "          for j in range(i + 1, qubits):\n",
    "              var_custom.cx(i, j)\n",
    "              var_custom.p(x[i] * x[j], j)\n",
    "              var_custom.cx(i, j)\n",
    "      var_custom.barrier()\n",
    "            \n",
    "  return var_custom\n"
   ]
  },
  {
   "cell_type": "code",
   "execution_count": null,
   "metadata": {
    "colab": {
     "base_uri": "https://localhost:8080/",
     "height": 458
    },
    "id": "8U6TizudyaW_",
    "outputId": "d05c41bd-83d3-4cb1-87d6-3cf24af3540e"
   },
   "outputs": [
    {
     "data": {
      "image/png": "[encoded data removed]",
      "text/plain": [
       "<Figure size 1591.6x565.88 with 1 Axes>"
      ]
     },
     "execution_count": 34,
     "metadata": {},
     "output_type": "execute_result"
    }
   ],
   "source": [
    "#Drawing our custom parameterized circuit\n",
    "feature_map(repeats=2).draw('mpl')"
   ]
  },
  {
   "cell_type": "code",
   "execution_count": null,
   "metadata": {
    "colab": {
     "base_uri": "https://localhost:8080/"
    },
    "id": "g9uWsndWNLxc",
    "outputId": "718c6087-6ddf-4dff-f0af-3dc14d226c2a"
   },
   "outputs": [
    {
     "name": "stdout",
     "output_type": "stream",
     "text": [
      "Execution time: 3.6348447799682617 seconds\n",
      "(117, 117)\n"
     ]
    }
   ],
   "source": [
    "#Defining the kernel function\n",
    "custom_kernel_v1 = QuantumKernel(feature_map=feature_map(), quantum_instance=Aer.get_backend('statevector_simulator'))\n",
    "\n",
    "#Build the kernel matrix to train and test \n",
    "st = time.time()\n",
    "matrix_train_v1 = custom_kernel_v1.evaluate(x_vec=X_train)\n",
    "matrix_test_v1 = custom_kernel_v1.evaluate(x_vec=X_test, y_vec=X_train)\n",
    "et = time.time()\n",
    "elapsed_time = (et - st)\n",
    "print('Execution time:', elapsed_time, 'seconds')\n",
    "print(matrix_train_v1.shape)"
   ]
  },
  {
   "cell_type": "markdown",
   "metadata": {
    "id": "xqDouTj8P7bd"
   },
   "source": [
    "\n",
    "\n",
    "> ### For this task that I was able to perform, it is important to note the time that the Qiskit functions took to build the train and test gram matrices.\n",
    "\n"
   ]
  },
  {
   "cell_type": "code",
   "execution_count": null,
   "metadata": {
    "colab": {
     "base_uri": "https://localhost:8080/"
    },
    "id": "J9MwZoWwwkZ7",
    "outputId": "01482d7b-6c9e-42eb-df74-b0b06bb271a7"
   },
   "outputs": [
    {
     "data": {
      "text/plain": [
       "array([[1.        , 0.04491096, 0.38421764, ..., 0.08031917, 0.08654201,\n",
       "        0.50376376],\n",
       "       [0.04491096, 1.        , 0.1650755 , ..., 0.31803174, 0.20382382,\n",
       "        0.04595096],\n",
       "       [0.38421764, 0.1650755 , 1.        , ..., 0.12905956, 0.13067179,\n",
       "        0.25415451],\n",
       "       ...,\n",
       "       [0.08031917, 0.31803174, 0.12905956, ..., 1.        , 0.24365845,\n",
       "        0.10844914],\n",
       "       [0.08654201, 0.20382382, 0.13067179, ..., 0.24365845, 1.        ,\n",
       "        0.1298274 ],\n",
       "       [0.50376376, 0.04595096, 0.25415451, ..., 0.10844914, 0.1298274 ,\n",
       "        1.        ]])"
      ]
     },
     "execution_count": 36,
     "metadata": {},
     "output_type": "execute_result"
    }
   ],
   "source": [
    "#We can note that is a simmetric Matrix\n",
    "matrix_train_v1"
   ]
  },
  {
   "cell_type": "code",
   "execution_count": null,
   "metadata": {
    "colab": {
     "base_uri": "https://localhost:8080/"
    },
    "id": "nHgEVUaHTk3q",
    "outputId": "d3d3ba04-efd8-4f65-9df0-5f39e14169f4"
   },
   "outputs": [
    {
     "name": "stdout",
     "output_type": "stream",
     "text": [
      "(30, 117)\n"
     ]
    }
   ],
   "source": [
    "print(matrix_test_v1.shape)"
   ]
  },
  {
   "cell_type": "markdown",
   "metadata": {
    "id": "dO12fRd_NLg0"
   },
   "source": [
    "\n",
    "\n",
    "> ### Now once the gram matrices for training and testing have been created, we can use the classic SVC model from the Sklearn library and observe the results.\n"
   ]
  },
  {
   "cell_type": "code",
   "execution_count": null,
   "metadata": {
    "colab": {
     "base_uri": "https://localhost:8080/"
    },
    "id": "hmdQOM4QM2_1",
    "outputId": "7655598b-9ef9-4170-a639-1aa52416b58c"
   },
   "outputs": [
    {
     "data": {
      "text/plain": [
       "SVC(kernel='precomputed')"
      ]
     },
     "execution_count": 38,
     "metadata": {},
     "output_type": "execute_result"
    }
   ],
   "source": [
    "#Training the model\n",
    "custom_svc_v1 = SVC(kernel='precomputed')\n",
    "custom_svc_v1.fit(matrix_train_v1, y_train)"
   ]
  },
  {
   "cell_type": "code",
   "execution_count": null,
   "metadata": {
    "id": "E3LWSIQbI-jZ"
   },
   "outputs": [],
   "source": [
    "#Predicting the test values\n",
    "y_predict_v1 = custom_svc_v1.predict(matrix_test_v1)"
   ]
  },
  {
   "cell_type": "code",
   "execution_count": null,
   "metadata": {
    "id": "qTZ0qTH3iFLU"
   },
   "outputs": [],
   "source": [
    "#Getting all the metrics\n",
    "metric_report_v1 = classification_report(y_test, y_predict_v1)"
   ]
  },
  {
   "cell_type": "code",
   "execution_count": null,
   "metadata": {
    "colab": {
     "base_uri": "https://localhost:8080/"
    },
    "id": "kUZYKvFcOo96",
    "outputId": "9070ae7e-6fcd-4cbd-a67c-fdf892c07802"
   },
   "outputs": [
    {
     "name": "stdout",
     "output_type": "stream",
     "text": [
      "              precision    recall  f1-score   support\n",
      "\n",
      "           0       1.00      1.00      1.00        11\n",
      "           1       1.00      0.90      0.95        10\n",
      "           2       0.90      1.00      0.95         9\n",
      "\n",
      "    accuracy                           0.97        30\n",
      "   macro avg       0.97      0.97      0.96        30\n",
      "weighted avg       0.97      0.97      0.97        30\n",
      "\n"
     ]
    }
   ],
   "source": [
    "print(metric_report_v1)"
   ]
  },
  {
   "cell_type": "markdown",
   "metadata": {
    "id": "ZSRJDt_MPK5i"
   },
   "source": [
    "### For this task it is important to note the time it took for the Qiskit functions to construct the train and test gram matrices."
   ]
  },
  {
   "cell_type": "markdown",
   "metadata": {
    "id": "ovu7_ZJe7kcp"
   },
   "source": [
    "## 2. Second Way: Using the $UU†$ format\n"
   ]
  },
  {
   "cell_type": "markdown",
   "metadata": {
    "id": "zvGhTVyRaMeR"
   },
   "source": [
    "\n",
    "\n",
    "> ### Now we will try to calculate the gram matrix without qiskit functions. This time we will realize that the construction of the matrix is very slow.\n",
    "\n"
   ]
  },
  {
   "cell_type": "code",
   "execution_count": null,
   "metadata": {
    "id": "Q5gwBfzNT5V1"
   },
   "outputs": [],
   "source": [
    "\n",
    "def feature_map_v2(x,repeats=1):\n",
    "  \"\"\"\n",
    "  Feature function that encoding the classical data to quantum states\n",
    "  This function is to use with the our own functions that calculates the gram matrix\n",
    "  Args:\n",
    "      x (array) : A vector that will be encoded\n",
    "      repeats (int): Number of repetitions of the quantum circuit\n",
    "  Returns:\n",
    "      The qiskit circuit\n",
    "  \"\"\"\n",
    "  qubits = 4 #Numero de features\n",
    "\n",
    "  var_custom = QuantumCircuit(qubits)\n",
    "\n",
    "  for _ in range(repeats):\n",
    "      for i in range(qubits):\n",
    "          var_custom.rx(x[i], i)\n",
    "      for i in range(qubits):\n",
    "          for j in range(i + 1, qubits):\n",
    "              var_custom.cx(i, j)\n",
    "              var_custom.p(x[i] * x[j], j)\n",
    "              var_custom.cx(i, j)\n",
    "      var_custom.barrier()\n",
    "\n",
    "  return var_custom\n",
    "\n",
    "\n",
    "x1 = [0.1,0.2,0.3,0.4] #This values are examples to show how this method works\n",
    "x2 = [0.5,0.6,0.7,0.8]"
   ]
  },
  {
   "cell_type": "markdown",
   "metadata": {
    "id": "b6L8ghsNc2ri"
   },
   "source": [
    "\n",
    "> ### So the idea can show in the next picture:\n"
   ]
  },
  {
   "cell_type": "markdown",
   "metadata": {
    "id": "xUyv0IpGnHp2"
   },
   "source": [
    "\n",
    "![](https://drive.google.com/uc?id=1jjTonqh8cLeuPE7v9oofpwlUW6m7Vd1x)"
   ]
  },
  {
   "cell_type": "code",
   "execution_count": null,
   "metadata": {
    "colab": {
     "base_uri": "https://localhost:8080/",
     "height": 231
    },
    "id": "m3OCE7wHc0iW",
    "outputId": "ffe9ab16-ccfa-4c9d-9ef5-c958b8939eae"
   },
   "outputs": [
    {
     "data": {
      "image/png": "[encoded data removed]",
      "text/plain": [
       "<Figure size 1230.4x264.88 with 1 Axes>"
      ]
     },
     "execution_count": 43,
     "metadata": {},
     "output_type": "execute_result"
    }
   ],
   "source": [
    "qc = feature_map_v2(x2)\n",
    "qc.draw('mpl')"
   ]
  },
  {
   "cell_type": "code",
   "execution_count": null,
   "metadata": {
    "colab": {
     "base_uri": "https://localhost:8080/",
     "height": 231
    },
    "id": "X4Ul4NvIT1yZ",
    "outputId": "05ea809b-766f-4b3c-8263-9e9358b7c72f"
   },
   "outputs": [
    {
     "data": {
      "image/png": "[encoded data removed]",
      "text/plain": [
       "<Figure size 1230.4x264.88 with 1 Axes>"
      ]
     },
     "execution_count": 44,
     "metadata": {},
     "output_type": "execute_result"
    }
   ],
   "source": [
    "#Adding the adjoin gate\n",
    "qc_inverse = feature_map_v2(x1).inverse()\n",
    "qc_inverse.draw('mpl')"
   ]
  },
  {
   "cell_type": "code",
   "execution_count": null,
   "metadata": {
    "colab": {
     "base_uri": "https://localhost:8080/",
     "height": 458
    },
    "id": "PbTrh8POUWho",
    "outputId": "6d5688e4-d839-4b16-b3ec-9a50c9c1d71a"
   },
   "outputs": [
    {
     "data": {
      "image/png": "[encoded data removed]",
      "text/plain": [
       "<Figure size 1591.6x565.88 with 1 Axes>"
      ]
     },
     "execution_count": 45,
     "metadata": {},
     "output_type": "execute_result"
    }
   ],
   "source": [
    "#Joining both circuits \n",
    "custom_qc_v2 = qc.compose(qc_inverse)\n",
    "custom_qc_v2.draw('mpl')"
   ]
  },
  {
   "cell_type": "markdown",
   "metadata": {
    "id": "KFCmE4GSpwFx"
   },
   "source": [
    "\n",
    "\n",
    "> ### Now We need to figure out the probability of getting the |0000> state\n",
    "\n"
   ]
  },
  {
   "cell_type": "code",
   "execution_count": null,
   "metadata": {
    "id": "yK0faA_2jo46"
   },
   "outputs": [],
   "source": [
    "backend = Aer.get_backend('statevector_simulator')\n",
    "\n",
    "result = execute(custom_qc_v2, backend, shots=1000).result()"
   ]
  },
  {
   "cell_type": "code",
   "execution_count": null,
   "metadata": {
    "id": "yMszm5xejs2S"
   },
   "outputs": [],
   "source": [
    "statevector = result.get_statevector(custom_qc_v2)"
   ]
  },
  {
   "cell_type": "code",
   "execution_count": null,
   "metadata": {
    "colab": {
     "base_uri": "https://localhost:8080/"
    },
    "id": "tJ-dzN_hj5Q7",
    "outputId": "b86bf587-2a07-48e3-e875-b0eeccdb1ffb"
   },
   "outputs": [
    {
     "data": {
      "text/plain": [
       "array([7.12382145e-01, 4.20404177e-02, 5.58032314e-02, 1.42724842e-03,\n",
       "       7.64274137e-02, 1.39236136e-03, 1.01485457e-03, 1.01403611e-04,\n",
       "       1.05788958e-01, 1.39038732e-03, 8.54350571e-04, 1.57933850e-04,\n",
       "       4.53342172e-04, 2.63118630e-04, 4.48334361e-04, 5.44992308e-05])"
      ]
     },
     "execution_count": 48,
     "metadata": {},
     "output_type": "execute_result"
    }
   ],
   "source": [
    "statevector.probabilities()"
   ]
  },
  {
   "cell_type": "code",
   "execution_count": null,
   "metadata": {
    "colab": {
     "base_uri": "https://localhost:8080/"
    },
    "id": "gGvN1e6KqMdS",
    "outputId": "18a23fd3-38c9-4be1-9f88-5fff70b12644"
   },
   "outputs": [
    {
     "name": "stdout",
     "output_type": "stream",
     "text": [
      "The Inner product of x1 and x2 is:  0.7123821448639467\n"
     ]
    }
   ],
   "source": [
    "print(\"The Inner product of x1 and x2 is: \", statevector.probabilities()[0])"
   ]
  },
  {
   "cell_type": "markdown",
   "metadata": {
    "id": "e6N5d9nmqwNQ"
   },
   "source": [
    "\n",
    "\n",
    "> ### We will now put the above in a function and use it to calculate the gram matrix for training and testing in our task.\n",
    "\n"
   ]
  },
  {
   "cell_type": "code",
   "execution_count": null,
   "metadata": {
    "colab": {
     "base_uri": "https://localhost:8080/"
    },
    "id": "d-zCCkWHrug3",
    "outputId": "9235aad7-f75d-4030-8a0b-9c1669d5632d"
   },
   "outputs": [
    {
     "name": "stdout",
     "output_type": "stream",
     "text": [
      "0.7123821448639467\n"
     ]
    }
   ],
   "source": [
    "def inner_product_v2(x1, x2):\n",
    "  \"\"\"\n",
    "  Inner product between two states\n",
    "  Args:\n",
    "      x1 (array): A vector\n",
    "      x2 (array): A vector\n",
    "  Returns:\n",
    "      The probilitity to get the |0000> state\n",
    "  \"\"\"\n",
    "  qc = feature_map_v2(x2)\n",
    "  qc_inverse = feature_map_v2(x1).inverse()\n",
    "  qc_result = qc.compose(qc_inverse)\n",
    "  backend = Aer.get_backend('statevector_simulator')\n",
    "\n",
    "  result = execute(qc_result, backend, shots=1000).result()\n",
    "  statevector = result.get_statevector(qc_result)\n",
    "  #Returns the probability to get the |0000> state\n",
    "  return statevector.probabilities()[0]\n",
    "\n",
    "print(inner_product_v2(x1, x2)) #Same response as previous cell, so is OK!"
   ]
  },
  {
   "cell_type": "code",
   "execution_count": null,
   "metadata": {
    "id": "xkDprAvDtKYA"
   },
   "outputs": [],
   "source": [
    "def KernelGramMatrixFull_v2(X1, X2):\n",
    "  \"\"\"\n",
    "  Inner product between two states\n",
    "  Args:\n",
    "      X1 (DataFrame): TrainDta or TestData\n",
    "      X2 (DataFrame): TrainDta\n",
    "  Returns:\n",
    "      The gram Matrix\n",
    "  \"\"\"\n",
    "  st = time.time()\n",
    "  print(\"Calculating Gram matrix\")\n",
    "  X1=X1.to_numpy()\n",
    "  X2=X2.to_numpy()\n",
    "  gram_matrix = np.zeros((X1.shape[0], X2.shape[0]))\n",
    "  for i, x1 in enumerate(X1):\n",
    "      percent = int(i / len(X1) *100)\n",
    "      print(percent, \"%\")\n",
    "      \n",
    "      for j, x2 in enumerate(X2):\n",
    "          x1 = x1.flatten()\n",
    "          x2 = x2.flatten()\n",
    "          \n",
    "          gram_matrix[i, j] = inner_product_v2(x1, x2)\n",
    "      clear_output()\n",
    "  et = time.time()\n",
    "  elapsed_time = (et - st)/60.0\n",
    "  print(\"100%\")\n",
    "  print('Execution time:', elapsed_time, 'minutes')\n",
    "  return gram_matrix"
   ]
  },
  {
   "cell_type": "code",
   "execution_count": null,
   "metadata": {
    "colab": {
     "base_uri": "https://localhost:8080/"
    },
    "id": "sTyKBYQQy4TK",
    "outputId": "bcdf85e6-edb4-4828-dc18-1d7b97bf307e"
   },
   "outputs": [
    {
     "name": "stdout",
     "output_type": "stream",
     "text": [
      "100%\n",
      "Execution time: 11.909511435031892 minutes\n"
     ]
    }
   ],
   "source": [
    "matrix_train_v2 = KernelGramMatrixFull_v2(X_train, X_train)"
   ]
  },
  {
   "cell_type": "code",
   "execution_count": null,
   "metadata": {
    "colab": {
     "base_uri": "https://localhost:8080/"
    },
    "id": "40C8FJg9j5zi",
    "outputId": "76e3269b-2f6b-43f4-dc76-4f57fee284a8"
   },
   "outputs": [
    {
     "name": "stdout",
     "output_type": "stream",
     "text": [
      "100%\n",
      "Execution time: 2.977595317363739 minutes\n"
     ]
    }
   ],
   "source": [
    "matrix_test_v2 = KernelGramMatrixFull_v2(X_test, X_train)"
   ]
  },
  {
   "cell_type": "markdown",
   "metadata": {
    "id": "fqMRhk732uJU"
   },
   "source": [
    "\n",
    "\n",
    "> ### As indicated at the beginning of this section, the function that calculates the gram matrix is too slow, since it builds the matrix element by element using a nested loop, which causes it to have a complexity of O($n^2$ ) and be very slow. One solution would be to vectorize the function to take advantage of the properties of the arrays, but on this occasion he did not have the time to make this improvement.\n",
    "\n"
   ]
  },
  {
   "cell_type": "code",
   "execution_count": null,
   "metadata": {
    "colab": {
     "base_uri": "https://localhost:8080/"
    },
    "id": "E8v7PLuj3INt",
    "outputId": "43dd0025-a20b-4e68-db09-01470a3f5fd0"
   },
   "outputs": [
    {
     "data": {
      "text/plain": [
       "(117, 117)"
      ]
     },
     "execution_count": 54,
     "metadata": {},
     "output_type": "execute_result"
    }
   ],
   "source": [
    "matrix_train_v2.shape"
   ]
  },
  {
   "cell_type": "code",
   "execution_count": null,
   "metadata": {
    "colab": {
     "base_uri": "https://localhost:8080/"
    },
    "id": "vIcEwIsBtUwQ",
    "outputId": "5ecafbe9-1f48-4c6b-b407-0f0c7d28600b"
   },
   "outputs": [
    {
     "data": {
      "text/plain": [
       "SVC(kernel='precomputed')"
      ]
     },
     "execution_count": 55,
     "metadata": {},
     "output_type": "execute_result"
    }
   ],
   "source": [
    "#Training the model\n",
    "custom_svc_v2 = SVC(kernel='precomputed')\n",
    "custom_svc_v2.fit(matrix_train_v2, y_train)"
   ]
  },
  {
   "cell_type": "code",
   "execution_count": null,
   "metadata": {
    "id": "M0Cdp4ZbzOOW"
   },
   "outputs": [],
   "source": [
    "#Predicting the test values\n",
    "y_predict_v2 = custom_svc_v2.predict(matrix_test_v2)"
   ]
  },
  {
   "cell_type": "code",
   "execution_count": null,
   "metadata": {
    "id": "KEVYzJBVzO9_"
   },
   "outputs": [],
   "source": [
    "#Getting all the metrics\n",
    "metric_report_v2 = classification_report(y_test, y_predict_v2)"
   ]
  },
  {
   "cell_type": "code",
   "execution_count": null,
   "metadata": {
    "colab": {
     "base_uri": "https://localhost:8080/"
    },
    "id": "IPBoqZcZzSRR",
    "outputId": "00dc9a9a-51db-4e05-8918-75fb9ddaa390"
   },
   "outputs": [
    {
     "name": "stdout",
     "output_type": "stream",
     "text": [
      "              precision    recall  f1-score   support\n",
      "\n",
      "           0       1.00      1.00      1.00        11\n",
      "           1       1.00      0.90      0.95        10\n",
      "           2       0.90      1.00      0.95         9\n",
      "\n",
      "    accuracy                           0.97        30\n",
      "   macro avg       0.97      0.97      0.96        30\n",
      "weighted avg       0.97      0.97      0.97        30\n",
      "\n"
     ]
    }
   ],
   "source": [
    "print(metric_report_v2)"
   ]
  },
  {
   "cell_type": "markdown",
   "metadata": {
    "id": "leJkUp8J7uRh"
   },
   "source": []
  },
  {
   "cell_type": "markdown",
   "metadata": {
    "id": "GDn_z40u7kx1"
   },
   "source": [
    "## 3. Third Way: Using the Swap Test\n"
   ]
  },
  {
   "cell_type": "markdown",
   "metadata": {
    "id": "Lm6-tMNDiIkc"
   },
   "source": [
    "\n",
    "\n",
    "\n",
    "\n",
    "> ### Now we will try to calculate the gram matrix without qiskit functions. Unlike the previous case, this time we will use the swap test to calculate the Kerner function and the gram matrix\n",
    "\n",
    "\n",
    "\n",
    "\n"
   ]
  },
  {
   "cell_type": "markdown",
   "metadata": {
    "id": "B4lfQSWjrxCo"
   },
   "source": [
    "\n",
    "\n",
    "> ### The swap test is a procedure in quantum computing that is used to check how much two quantum states differ. This method allows us to estimate the squared inner product between the two states indirectly. Which we will use for our function that builds the gram matrix. This next figure show as the circuit that you should to use.\n"
   ]
  },
  {
   "cell_type": "markdown",
   "metadata": {
    "id": "fih8N63utMYQ"
   },
   "source": [
    "\n",
    "<img src=\"https://upload.wikimedia.org/wikipedia/commons/d/d6/Quantum-swap-test-circuit-correct.png\"  width=\"60%\" height=\"30%\">"
   ]
  },
  {
   "cell_type": "markdown",
   "metadata": {
    "id": "zw5Ny4PyEBnU"
   },
   "source": [
    "\n",
    "\n",
    "> ### From the above expression it can be shown that:\n",
    "> ## $P( | 0 \\rangle) = \\frac{1}{2} + \\frac{1}{2}|\\langle \\psi | \\phi \\rangle|^2$\n",
    "> ### We can see that in this case the phi and phi states only consist of one qbit, but in most cases there are more qbist (In our case 4 qbits) So this circuit varies a bit but respecting its essence. As we can see in the next cell\n"
   ]
  },
  {
   "cell_type": "code",
   "execution_count": null,
   "metadata": {
    "colab": {
     "base_uri": "https://localhost:8080/",
     "height": 504
    },
    "id": "I-d2vMQECRgO",
    "outputId": "fb74a98d-d582-4012-f41d-846936b5d0b6"
   },
   "outputs": [
    {
     "data": {
      "image/png": "[encoded data removed]",
      "text/plain": [
       "<Figure size 507.997x626.08 with 1 Axes>"
      ]
     },
     "execution_count": 69,
     "metadata": {},
     "output_type": "execute_result"
    }
   ],
   "source": [
    "num_qubits = 4 #Number of qbits!!!\n",
    "\n",
    "circuit1 = QuantumCircuit(num_qubits)\n",
    "for i in range(num_qubits):\n",
    "    circuit1.id(i)\n",
    "\n",
    "circuit2 = QuantumCircuit(num_qubits)\n",
    "for i in range(num_qubits):\n",
    "    circuit2.id(i)\n",
    "    \n",
    "swap_test_circuit = QuantumCircuit(2*num_qubits + 1,1)\n",
    "swap_test_circuit.compose(circuit1)\n",
    "swap_test_circuit.compose(circuit2)\n",
    "swap_test_circuit.compose(circuit1, qubits=list(range(1,num_qubits+1)), inplace=True )\n",
    "swap_test_circuit.compose(circuit2, qubits=list(range(num_qubits+1,2*num_qubits+1)), inplace=True )\n",
    "\n",
    "swap_test_circuit.h(0)\n",
    "for i in range(num_qubits):\n",
    "    swap_test_circuit.cswap(0,i+1,i+num_qubits+1)\n",
    "swap_test_circuit.h(0)\n",
    "swap_test_circuit.measure([0],[0])\n",
    "swap_test_circuit.draw(\"mpl\")"
   ]
  },
  {
   "cell_type": "markdown",
   "metadata": {
    "id": "my-m5kNHEBtp"
   },
   "source": [
    "### So, like the previous section, we will do a small example with x1 and x2. And then we will use it for the assigned task."
   ]
  },
  {
   "cell_type": "code",
   "execution_count": null,
   "metadata": {
    "colab": {
     "base_uri": "https://localhost:8080/",
     "height": 231
    },
    "id": "f2_RAUVFSTNB",
    "outputId": "c3876948-b2fd-4851-d879-f4370a9361cf"
   },
   "outputs": [
    {
     "data": {
      "image/png": "[encoded data removed]",
      "text/plain": [
       "<Figure size 1230.4x264.88 with 1 Axes>"
      ]
     },
     "execution_count": 70,
     "metadata": {},
     "output_type": "execute_result"
    }
   ],
   "source": [
    "qc_x2_v3 = feature_map_v2(x2)\n",
    "qc_x2_v3.draw(\"mpl\")"
   ]
  },
  {
   "cell_type": "code",
   "execution_count": null,
   "metadata": {
    "colab": {
     "base_uri": "https://localhost:8080/",
     "height": 231
    },
    "id": "kuI9TYvMJ6Tv",
    "outputId": "31b92b52-2207-4dce-f3e0-71e9be71d10a"
   },
   "outputs": [
    {
     "data": {
      "image/png": "[encoded data removed]",
      "text/plain": [
       "<Figure size 1230.4x264.88 with 1 Axes>"
      ]
     },
     "execution_count": 71,
     "metadata": {},
     "output_type": "execute_result"
    }
   ],
   "source": [
    "qc_x1_v3 = feature_map_v2(x1)\n",
    "qc_x1_v3.draw(\"mpl\")"
   ]
  },
  {
   "cell_type": "code",
   "execution_count": null,
   "metadata": {
    "colab": {
     "base_uri": "https://localhost:8080/",
     "height": 504
    },
    "id": "Kv3eEGaCSahf",
    "outputId": "65e3b584-58fc-4ad5-e138-9c4c4af7cb98"
   },
   "outputs": [
    {
     "data": {
      "image/png": "[encoded data removed]",
      "text/plain": [
       "<Figure size 1230.4x626.08 with 1 Axes>"
      ]
     },
     "execution_count": 72,
     "metadata": {},
     "output_type": "execute_result"
    }
   ],
   "source": [
    "prev_swap_test_circuit = QuantumCircuit(2*num_qubits + 1,1)\n",
    "prev_swap_test_circuit.compose(qc_x1_v3)\n",
    "prev_swap_test_circuit.compose(qc_x2_v3)\n",
    "prev_swap_test_circuit.compose(qc_x1_v3, qubits=list(range(1,num_qubits+1)), inplace=True )\n",
    "prev_swap_test_circuit.compose(qc_x2_v3, qubits=list(range(num_qubits+1,2*num_qubits+1)), inplace=True )\n",
    "prev_swap_test_circuit.draw(\"mpl\")"
   ]
  },
  {
   "cell_type": "code",
   "execution_count": null,
   "metadata": {
    "colab": {
     "base_uri": "https://localhost:8080/",
     "height": 1000
    },
    "id": "jVDIyKAQTeBI",
    "outputId": "3a2b78fb-f5b1-4115-a2e2-9223b7098615"
   },
   "outputs": [
    {
     "data": {
      "image/png": "[encoded data removed]",
      "text/plain": [
       "<Figure size 1591.6x1288.28 with 1 Axes>"
      ]
     },
     "execution_count": 73,
     "metadata": {},
     "output_type": "execute_result"
    }
   ],
   "source": [
    "qc_swap_result_v3 = prev_swap_test_circuit.compose(swap_test_circuit)\n",
    "qc_swap_result_v3.draw(\"mpl\")"
   ]
  },
  {
   "cell_type": "code",
   "execution_count": null,
   "metadata": {
    "colab": {
     "base_uri": "https://localhost:8080/"
    },
    "id": "0gP0jvpSbvx4",
    "outputId": "4ec6a3b5-7fbb-4479-ba9a-cd829e8e63c1"
   },
   "outputs": [
    {
     "data": {
      "text/plain": [
       "{'1': 1138, '0': 7054}"
      ]
     },
     "execution_count": 74,
     "metadata": {},
     "output_type": "execute_result"
    }
   ],
   "source": [
    "backend = Aer.get_backend('statevector_simulator')\n",
    "nShots = 8192\n",
    "result = execute(qc_swap_result_v3, backend, shots=nShots).result()\n",
    "statevector = result.get_statevector(qc_swap_result_v3)\n",
    "result.get_counts()"
   ]
  },
  {
   "cell_type": "code",
   "execution_count": null,
   "metadata": {
    "colab": {
     "base_uri": "https://localhost:8080/"
    },
    "id": "gTIpLwwv7oPL",
    "outputId": "593b004b-54d1-4e7c-d503-6d3b0f0a164b"
   },
   "outputs": [
    {
     "name": "stdout",
     "output_type": "stream",
     "text": [
      "Squared Inner Product: 0.72216796875\n",
      "Counts:  {'1': 1138, '0': 7054}\n"
     ]
    }
   ],
   "source": [
    "counts = result.get_counts()\n",
    "\n",
    "s = 2*counts[\"0\"]/nShots - 1\n",
    "\n",
    "print(\"Squared Inner Product:\",str(s))\n",
    "print(\"Counts: \",counts)\n",
    "#The value obtained is very close to that obtained in the previous section."
   ]
  },
  {
   "cell_type": "code",
   "execution_count": null,
   "metadata": {
    "colab": {
     "base_uri": "https://localhost:8080/"
    },
    "id": "kf3d9e6U0hn3",
    "outputId": "ffc6136d-33a2-4f6e-a6c9-03efed95158f"
   },
   "outputs": [
    {
     "name": "stdout",
     "output_type": "stream",
     "text": [
      "0.7123821448639467\n"
     ]
    }
   ],
   "source": [
    "# If we remember the result in the previus secction\n",
    "print(inner_product_v2(x1, x2))"
   ]
  },
  {
   "cell_type": "markdown",
   "metadata": {
    "id": "2tjXSe-NMDDw"
   },
   "source": [
    "\n",
    "\n",
    "> ### Now We will put the above in a function and use it to calculate the gram matrix for training and testing in our task.\n",
    "\n"
   ]
  },
  {
   "cell_type": "code",
   "execution_count": null,
   "metadata": {
    "id": "WVGRSxh4aZYl"
   },
   "outputs": [],
   "source": [
    "def inner_product_swap_test(x1, x2):\n",
    "  \"\"\"\n",
    "  Inner product between two states\n",
    "  Args:\n",
    "      x1 (array): A vector\n",
    "      x2 (array): A vector\n",
    "  Returns:\n",
    "      The inner product\n",
    "  \"\"\"\n",
    "  num_qubits = 4 #Number of features or columns\n",
    "  circuit1 = QuantumCircuit(num_qubits)\n",
    "  circuit2 = QuantumCircuit(num_qubits)\n",
    "\n",
    "  swap_test_circuit = QuantumCircuit(2*num_qubits + 1,1)\n",
    "  swap_test_circuit.compose(circuit1)\n",
    "  swap_test_circuit.compose(circuit2)\n",
    "  swap_test_circuit.compose(circuit1, qubits=list(range(1,num_qubits+1)), inplace=True )\n",
    "  swap_test_circuit.compose(circuit2, qubits=list(range(num_qubits+1,2*num_qubits+1)), inplace=True )\n",
    "\n",
    "  swap_test_circuit.h(0)\n",
    "  for i in range(num_qubits):\n",
    "    swap_test_circuit.cswap(0,i+1,i+num_qubits+1)\n",
    "  swap_test_circuit.h(0)\n",
    "  swap_test_circuit.measure([0],[0])\n",
    "  \n",
    "\n",
    "  circuit_x1 = feature_map_v2(x1)\n",
    "  circuit_x2 = feature_map_v2(x2)\n",
    "\n",
    "  prev_swap_test_circuit = QuantumCircuit(2*num_qubits + 1,1)\n",
    "  prev_swap_test_circuit.compose(circuit_x1)\n",
    "  prev_swap_test_circuit.compose(circuit_x2)\n",
    "  prev_swap_test_circuit.compose(circuit_x1, qubits=list(range(1,num_qubits+1)), inplace=True )\n",
    "  prev_swap_test_circuit.compose(circuit_x2, qubits=list(range(num_qubits+1,2*num_qubits+1)), inplace=True )\n",
    "\n",
    "  qc_swap_result = prev_swap_test_circuit.compose(swap_test_circuit)\n",
    "\n",
    "  backend = Aer.get_backend('statevector_simulator')\n",
    "  nShots = 100 #Only 100 shots because it's too long running time for 100, since it has a complexity of O(n^2)\n",
    "  result = execute(qc_swap_result, backend, shots=nShots).result()\n",
    "  statevector = result.get_statevector(qc_swap_result)\n",
    "  counts = result.get_counts()\n",
    "\n",
    "  s = 2*counts[\"0\"]/nShots - 1\n",
    "\n",
    "\n",
    "  return s\n"
   ]
  },
  {
   "cell_type": "code",
   "execution_count": null,
   "metadata": {
    "colab": {
     "base_uri": "https://localhost:8080/"
    },
    "id": "PhAKkoW9N5AM",
    "outputId": "2c944043-6a44-4156-cd3b-1efbd3dc4c8b"
   },
   "outputs": [
    {
     "data": {
      "text/plain": [
       "0.74"
      ]
     },
     "execution_count": 80,
     "metadata": {},
     "output_type": "execute_result"
    }
   ],
   "source": [
    "inner_product_swap_test(x1, x2)"
   ]
  },
  {
   "cell_type": "code",
   "execution_count": null,
   "metadata": {
    "id": "vJkW7sWzaZxA"
   },
   "outputs": [],
   "source": [
    "def KernelGramMatrixFull_v3(X1, X2):\n",
    "  \"\"\"\n",
    "  Inner product between two states\n",
    "  Args:\n",
    "      X1 (DataFrame): TrainDta or TestData\n",
    "      X2 (DataFrame): TrainDta\n",
    "  Returns:\n",
    "      The gram Matrix\n",
    "  \"\"\"\n",
    "  st = time.time()\n",
    "  print(\"Calculando matriz de Gram\")\n",
    "\n",
    "  X1=X1.to_numpy()\n",
    "  X2=X2.to_numpy()\n",
    "  gram_matrix = np.zeros((X1.shape[0], X2.shape[0]))\n",
    "  for i, x1 in enumerate(X1):\n",
    "      print(int(i / len(X1) *100), \"%\")\n",
    "      for j, x2 in enumerate(X2):\n",
    "          x1 = x1.flatten()\n",
    "          x2 = x2.flatten()\n",
    "\n",
    "          gram_matrix[i, j] = inner_product_swap_test(x1, x2)\n",
    "      clear_output()\n",
    "  et = time.time()\n",
    "  elapsed_time = (et - st)/60.0\n",
    "  print(\"100%\")\n",
    "  print('Execution time:', elapsed_time, 'minutes')\n",
    "  return gram_matrix"
   ]
  },
  {
   "cell_type": "code",
   "execution_count": null,
   "metadata": {
    "colab": {
     "base_uri": "https://localhost:8080/"
    },
    "id": "VYiLJFKsO55i",
    "outputId": "8e2cd101-b920-40a2-b1d3-cad84de258cf"
   },
   "outputs": [
    {
     "name": "stdout",
     "output_type": "stream",
     "text": [
      "100%\n",
      "Execution time: 17.273850762844084 minutes\n"
     ]
    }
   ],
   "source": [
    "matrix_train_v3 = KernelGramMatrixFull_v3(X_train, X_train)"
   ]
  },
  {
   "cell_type": "code",
   "execution_count": null,
   "metadata": {
    "colab": {
     "base_uri": "https://localhost:8080/"
    },
    "id": "hG0EBzGqkGhr",
    "outputId": "bb13d833-97d3-43b0-cdf7-362d6ea29655"
   },
   "outputs": [
    {
     "name": "stdout",
     "output_type": "stream",
     "text": [
      "100%\n",
      "Execution time: 4.5174257278442385 minutes\n"
     ]
    }
   ],
   "source": [
    "matrix_test_v3 = KernelGramMatrixFull_v3(X_test, X_train)"
   ]
  },
  {
   "cell_type": "code",
   "execution_count": null,
   "metadata": {
    "colab": {
     "base_uri": "https://localhost:8080/"
    },
    "id": "CXfft02OPCYl",
    "outputId": "78f5d476-a047-4f19-ae55-f75db190cf81"
   },
   "outputs": [
    {
     "data": {
      "text/plain": [
       "(117, 117)"
      ]
     },
     "execution_count": 84,
     "metadata": {},
     "output_type": "execute_result"
    }
   ],
   "source": [
    "matrix_train_v3.shape"
   ]
  },
  {
   "cell_type": "code",
   "execution_count": null,
   "metadata": {
    "colab": {
     "base_uri": "https://localhost:8080/"
    },
    "id": "TmDkuYCAhKGW",
    "outputId": "ab27b6b4-2e1f-4d60-c616-ca394bac4c43"
   },
   "outputs": [
    {
     "data": {
      "text/plain": [
       "array([[ 1.  ,  0.18,  0.46, ...,  0.12,  0.18,  0.58],\n",
       "       [-0.02,  1.  ,  0.22, ...,  0.48,  0.1 , -0.04],\n",
       "       [ 0.32,  0.1 ,  1.  , ...,  0.24,  0.04,  0.3 ],\n",
       "       ...,\n",
       "       [ 0.18,  0.28,  0.02, ...,  1.  ,  0.24,  0.14],\n",
       "       [ 0.04,  0.14,  0.16, ...,  0.16,  1.  ,  0.24],\n",
       "       [ 0.62,  0.  ,  0.3 , ...,  0.04,  0.18,  1.  ]])"
      ]
     },
     "execution_count": 85,
     "metadata": {},
     "output_type": "execute_result"
    }
   ],
   "source": [
    "matrix_train_v3"
   ]
  },
  {
   "cell_type": "code",
   "execution_count": null,
   "metadata": {
    "colab": {
     "base_uri": "https://localhost:8080/"
    },
    "id": "iYseKtHhUpQ2",
    "outputId": "5e7eddcf-7bfb-42e0-e49a-f5671ecb2a85"
   },
   "outputs": [
    {
     "data": {
      "text/plain": [
       "SVC(kernel='precomputed')"
      ]
     },
     "execution_count": 86,
     "metadata": {},
     "output_type": "execute_result"
    }
   ],
   "source": [
    "#Training the model\n",
    "custom_svc_v3 = SVC(kernel='precomputed')\n",
    "custom_svc_v3.fit(matrix_train_v3, y_train)"
   ]
  },
  {
   "cell_type": "code",
   "execution_count": null,
   "metadata": {
    "id": "04u6KC51PCYo"
   },
   "outputs": [],
   "source": [
    "#Predicting the test values\n",
    "y_predict_v3 = custom_svc_v3.predict(matrix_test_v3)"
   ]
  },
  {
   "cell_type": "code",
   "execution_count": null,
   "metadata": {
    "id": "8ZRkvTPJPCYo"
   },
   "outputs": [],
   "source": [
    "#Getting all the metrics\n",
    "metric_report_v3 = classification_report(y_test, y_predict_v3)"
   ]
  },
  {
   "cell_type": "code",
   "execution_count": null,
   "metadata": {
    "colab": {
     "base_uri": "https://localhost:8080/"
    },
    "id": "At8sFODhPCYp",
    "outputId": "bbf9f319-6182-440d-8406-d5f4090b9df5"
   },
   "outputs": [
    {
     "name": "stdout",
     "output_type": "stream",
     "text": [
      "              precision    recall  f1-score   support\n",
      "\n",
      "           0       0.92      1.00      0.96        11\n",
      "           1       0.90      0.90      0.90        10\n",
      "           2       0.88      0.78      0.82         9\n",
      "\n",
      "    accuracy                           0.90        30\n",
      "   macro avg       0.90      0.89      0.89        30\n",
      "weighted avg       0.90      0.90      0.90        30\n",
      "\n"
     ]
    }
   ],
   "source": [
    "print(metric_report_v3)"
   ]
  },
  {
   "cell_type": "markdown",
   "metadata": {
    "id": "TrQMKuHzMDLX"
   },
   "source": [
    "## Finally, if we compare the precisions obtained from the 4 different ways of executing the same SVM algorithm (1 classical and 3 quantum), we can notice that the values are very similar except for the case of the swap test, where we used only 100 shots, this may be a reason why the gram matrix was not calculated very precisely and because the accuracy value dropped a bit. bit. Still 0.9 is a good result."
   ]
  },
  {
   "cell_type": "markdown",
   "metadata": {
    "id": "l5KmtPJhm9bX"
   },
   "source": [
    "## To finish this notebook, we could test how the accuracy varies if we change the depth of our quantum circuit. Since the first and second ways give the same results in the gram matrix, we are going to use the first way only because it is more optimized and would take less time to test."
   ]
  },
  {
   "cell_type": "code",
   "execution_count": null,
   "metadata": {
    "id": "at-Braxq0ia_"
   },
   "outputs": [],
   "source": []
  },
  {
   "cell_type": "markdown",
   "metadata": {
    "id": "husJN0Wjopi7"
   },
   "source": [
    "### With repeats = 2"
   ]
  },
  {
   "cell_type": "code",
   "execution_count": null,
   "metadata": {
    "colab": {
     "base_uri": "https://localhost:8080/"
    },
    "id": "_-L2i9a-n5g_",
    "outputId": "f85dc6ff-0eef-428b-d9b1-5483868c4fb0"
   },
   "outputs": [
    {
     "name": "stdout",
     "output_type": "stream",
     "text": [
      "Execution time: 2.1407551765441895 seconds\n"
     ]
    }
   ],
   "source": [
    "#Defining the kernel function with repeats = 2\n",
    "custom_kernel_depp_2 = QuantumKernel(feature_map=feature_map(repeats = 2), quantum_instance=Aer.get_backend('statevector_simulator'))\n",
    "\n",
    "#Build the kernel matrix to train and test \n",
    "st = time.time()\n",
    "matrix_train_depp_2 = custom_kernel_depp_2.evaluate(x_vec=X_train)\n",
    "matrix_test_depp_2 = custom_kernel_depp_2.evaluate(x_vec=X_test, y_vec=X_train)\n",
    "et = time.time()\n",
    "elapsed_time = (et - st)\n",
    "print('Execution time:', elapsed_time, 'seconds')"
   ]
  },
  {
   "cell_type": "code",
   "execution_count": null,
   "metadata": {
    "colab": {
     "base_uri": "https://localhost:8080/"
    },
    "id": "5rOBYW9En5hB",
    "outputId": "baa8fc73-95a0-474b-84d7-7b09372ce9c2"
   },
   "outputs": [
    {
     "data": {
      "text/plain": [
       "SVC(kernel='precomputed')"
      ]
     },
     "execution_count": 60,
     "metadata": {},
     "output_type": "execute_result"
    }
   ],
   "source": [
    "#Training the model\n",
    "custom_svc_depp_2 = SVC(kernel='precomputed')\n",
    "custom_svc_depp_2.fit(matrix_train_depp_2, y_train)"
   ]
  },
  {
   "cell_type": "code",
   "execution_count": null,
   "metadata": {
    "id": "UVtO1xV-n5hC"
   },
   "outputs": [],
   "source": [
    "#Predicting the test values\n",
    "y_predict_depp_2 = custom_svc_depp_2.predict(matrix_test_depp_2)"
   ]
  },
  {
   "cell_type": "code",
   "execution_count": null,
   "metadata": {
    "id": "uwOm7kWLn5hC"
   },
   "outputs": [],
   "source": [
    "#Getting all the metrics\n",
    "metric_report_depp_2 = classification_report(y_test, y_predict_depp_2)"
   ]
  },
  {
   "cell_type": "code",
   "execution_count": null,
   "metadata": {
    "colab": {
     "base_uri": "https://localhost:8080/"
    },
    "id": "giRtYzxln5hD",
    "outputId": "62dbc5e2-312a-4b39-960d-34c0dbb165b1"
   },
   "outputs": [
    {
     "name": "stdout",
     "output_type": "stream",
     "text": [
      "              precision    recall  f1-score   support\n",
      "\n",
      "           0       0.80      0.73      0.76        11\n",
      "           1       0.90      0.90      0.90        10\n",
      "           2       0.60      0.67      0.63         9\n",
      "\n",
      "    accuracy                           0.77        30\n",
      "   macro avg       0.77      0.76      0.76        30\n",
      "weighted avg       0.77      0.77      0.77        30\n",
      "\n"
     ]
    }
   ],
   "source": [
    "print(metric_report_depp_2)"
   ]
  },
  {
   "cell_type": "code",
   "execution_count": null,
   "metadata": {
    "id": "8IqUmpSg0jRV"
   },
   "outputs": [],
   "source": []
  },
  {
   "cell_type": "markdown",
   "metadata": {
    "id": "MGZhNapp0SRV"
   },
   "source": [
    "### We can notice that for 2 repetitions the accuracy drops to 0.77, which is not very good as the previous results when the depth of the quantum circuit was 1."
   ]
  },
  {
   "cell_type": "markdown",
   "metadata": {
    "id": "7y2cyHu0ospB"
   },
   "source": [
    "### With repeats = 3"
   ]
  },
  {
   "cell_type": "code",
   "execution_count": null,
   "metadata": {
    "id": "WQCzN5z6v3pX"
   },
   "outputs": [],
   "source": []
  },
  {
   "cell_type": "code",
   "execution_count": null,
   "metadata": {
    "colab": {
     "base_uri": "https://localhost:8080/"
    },
    "id": "3oYlXtQloyLr",
    "outputId": "754674f0-5010-4acf-d6fc-594385010dc1"
   },
   "outputs": [
    {
     "name": "stdout",
     "output_type": "stream",
     "text": [
      "Execution time: 3.379000186920166 seconds\n"
     ]
    }
   ],
   "source": [
    "#Defining the kernel function with repeats = 2\n",
    "custom_kernel_depp_3 = QuantumKernel(feature_map=feature_map(repeats = 3), quantum_instance=Aer.get_backend('statevector_simulator'))\n",
    "\n",
    "#Build the kernel matrix to train and test \n",
    "st = time.time()\n",
    "matrix_train_depp_3 = custom_kernel_depp_3.evaluate(x_vec=X_train)\n",
    "matrix_test_depp_3 = custom_kernel_depp_3.evaluate(x_vec=X_test, y_vec=X_train)\n",
    "et = time.time()\n",
    "elapsed_time = (et - st)\n",
    "print('Execution time:', elapsed_time, 'seconds')\n"
   ]
  },
  {
   "cell_type": "code",
   "execution_count": null,
   "metadata": {
    "colab": {
     "base_uri": "https://localhost:8080/"
    },
    "id": "B3uQXUxtoyLs",
    "outputId": "0f84ca27-f52e-427f-968b-9af3abf1d590"
   },
   "outputs": [
    {
     "data": {
      "text/plain": [
       "SVC(kernel='precomputed')"
      ]
     },
     "execution_count": 65,
     "metadata": {},
     "output_type": "execute_result"
    }
   ],
   "source": [
    "#Training the model\n",
    "custom_svc_depp_3 = SVC(kernel='precomputed')\n",
    "custom_svc_depp_3.fit(matrix_train_depp_3, y_train)"
   ]
  },
  {
   "cell_type": "code",
   "execution_count": null,
   "metadata": {
    "id": "fvjPAfVzoyLt"
   },
   "outputs": [],
   "source": [
    "#Predicting the test values\n",
    "y_predict_depp_3 = custom_svc_depp_3.predict(matrix_test_depp_3)"
   ]
  },
  {
   "cell_type": "code",
   "execution_count": null,
   "metadata": {
    "id": "Wh8k97BpoyLu"
   },
   "outputs": [],
   "source": [
    "#Getting all the metrics\n",
    "metric_report_depp_3 = classification_report(y_test, y_predict_depp_3)"
   ]
  },
  {
   "cell_type": "code",
   "execution_count": null,
   "metadata": {
    "colab": {
     "base_uri": "https://localhost:8080/"
    },
    "id": "Ne7hAowYoyLv",
    "outputId": "43082071-3858-4cd9-e2aa-fc8379b4d9ca"
   },
   "outputs": [
    {
     "name": "stdout",
     "output_type": "stream",
     "text": [
      "              precision    recall  f1-score   support\n",
      "\n",
      "           0       1.00      0.91      0.95        11\n",
      "           1       0.78      0.70      0.74        10\n",
      "           2       0.64      0.78      0.70         9\n",
      "\n",
      "    accuracy                           0.80        30\n",
      "   macro avg       0.80      0.80      0.80        30\n",
      "weighted avg       0.82      0.80      0.80        30\n",
      "\n"
     ]
    }
   ],
   "source": [
    "print(metric_report_depp_3)"
   ]
  },
  {
   "cell_type": "markdown",
   "metadata": {
    "id": "Ioreo14U0k9Q"
   },
   "source": [
    "### For 3 iterations, that is, a deeper quantum loop, the accuracy goes up a bit to 0.8, but it does not reach 0.97 when the quantum loop iterations is 1, the reason could be that the model is getting too complex so there may be overfitting for the test data."
   ]
  }
 ],
 "metadata": {
  "colab": {
   "provenance": []
  },
  "kernelspec": {
   "display_name": "Python 3 (ipykernel)",
   "language": "python",
   "name": "python3"
  },
  "language_info": {
   "codemirror_mode": {
    "name": "ipython",
    "version": 3
   },
   "file_extension": ".py",
   "mimetype": "text/x-python",
   "name": "python",
   "nbconvert_exporter": "python",
   "pygments_lexer": "ipython3",
   "version": "3.11.4"
  }
 },
 "nbformat": 4,
 "nbformat_minor": 1
}
